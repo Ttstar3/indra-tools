{
 "cells": [
  {
   "cell_type": "markdown",
   "metadata": {},
   "source": [
    "# Table of Contents\n",
    "\n",
    "1. [Single Run and Snapshot](#key1)<br>\n",
    "    1.1 [Select Halos by Mass](#singlemass)<br>\n",
    "    1.2 [Join Halos to Subhalos](#singlejoin)<br>\n",
    "    1.3 [Connect to Binary Catalog](#binary)\n",
    "2. [Single Run and Multiple Snapshots](#key2)<br>\n",
    "    2.1 [Select Massive Halos in Each Snapshot](#masssnaps)<br>\n",
    "    2.2 [Calculate Mass Functions in Every Snapshot](#massfns)\n",
    "3. [Multiple Runs and Single Snapshot](#key3)\n",
    "4. [More Complex Examples...](#key4)<br>\n",
    "    4.1. [Subitem1](#sub1)<br>\n",
    "    4.2. [Subitem2](#sub2)"
   ]
  },
  {
   "cell_type": "markdown",
   "metadata": {},
   "source": [
    "### This notebook gives examples of how to interact with the Indra halo database tables on the SciServer.\n",
    "Indra database tables contain halo and subhalo catalog information and are accessed by executing SQL queries. In many cases querying the database is much faster than reading the binary catalog files. More example queries that might be useful can be found at the [Virgo - Millennium Database](http://gavo.mpa-garching.mpg.de/Millennium/Help?page=demo/genericqueries) pages."
   ]
  },
  {
   "cell_type": "code",
   "execution_count": 1,
   "metadata": {},
   "outputs": [],
   "source": [
    "import numpy as np\n",
    "import matplotlib.pyplot as plt\n",
    "from mpl_toolkits.mplot3d import Axes3D\n",
    "import indratools as indra\n",
    "import pandas as pd\n",
    "import SciServer.CasJobs as cj"
   ]
  },
  {
   "cell_type": "markdown",
   "metadata": {},
   "source": [
    "The halo and subhalo catalogs are stored in tables in the 'Indra' database context. There are two tables for each Indra run, from 2_0_0 to 7_7_7, containing FOF group or Subhalo information for every snapshot."
   ]
  },
  {
   "cell_type": "code",
   "execution_count": 2,
   "metadata": {},
   "outputs": [],
   "source": [
    "context = \"Indra\"\n",
    "X = 2; Y = 3; Z = 4; snapnum = 58\n",
    "tablename_fof = f'FOF_{X}{Y}{Z}'\n",
    "tablename_sub = f'SubHalo_{X}{Y}{Z}'"
   ]
  },
  {
   "cell_type": "markdown",
   "metadata": {},
   "source": [
    "Snapshot redshift and scalefactor information is also stored in a table in the Indra database. **NOTE TO SELF** 'redshift' and 'z' redundant: re-do table?"
   ]
  },
  {
   "cell_type": "code",
   "execution_count": 3,
   "metadata": {},
   "outputs": [
    {
     "data": {
      "text/plain": [
       "array(['snapnum', 'redshift', 'time', 'z'], dtype=object)"
      ]
     },
     "execution_count": 3,
     "metadata": {},
     "output_type": "execute_result"
    }
   ],
   "source": [
    "snaps = cj.executeQuery(\"select * from Snapshots order by redshift\",context)\n",
    "snaps.columns.values"
   ]
  },
  {
   "cell_type": "code",
   "execution_count": 4,
   "metadata": {},
   "outputs": [
    {
     "data": {
      "text/plain": [
       "0.115883"
      ]
     },
     "execution_count": 4,
     "metadata": {},
     "output_type": "execute_result"
    }
   ],
   "source": [
    "snaps['redshift'][snaps['snapnum']==snapnum].values[0]"
   ]
  },
  {
   "cell_type": "markdown",
   "metadata": {},
   "source": [
    "There are two ways of executing SQL with the SciServer.CasJobs API: `executeQuery` and `submitJob`. **SEE DOCUMENTATION: ...** (executeQuery needs to take less than a minute, plus not have humongous output)\n",
    "\n",
    "Selecting a full halo catalog at a low-redshift snapshot requires too much memory for the `executeQuery` command. It is better to select only what you need, or if you want to use the entire catalog (FOF + Subhalo) of one snapshot of one Indra run, load the binary catalog with `cat = indra.getsubcat((X,Y,Z),snapnum)`.\n",
    "\n",
    "Here is a quick way to find out the column names of both tables:"
   ]
  },
  {
   "cell_type": "code",
   "execution_count": 24,
   "metadata": {},
   "outputs": [
    {
     "data": {
      "text/html": [
       "<div>\n",
       "<style scoped>\n",
       "    .dataframe tbody tr th:only-of-type {\n",
       "        vertical-align: middle;\n",
       "    }\n",
       "\n",
       "    .dataframe tbody tr th {\n",
       "        vertical-align: top;\n",
       "    }\n",
       "\n",
       "    .dataframe thead th {\n",
       "        text-align: right;\n",
       "    }\n",
       "</style>\n",
       "<table border=\"1\" class=\"dataframe\">\n",
       "  <thead>\n",
       "    <tr style=\"text-align: right;\">\n",
       "      <th></th>\n",
       "      <th>fofId</th>\n",
       "      <th>firstSubhaloId</th>\n",
       "      <th>snapnum</th>\n",
       "      <th>np</th>\n",
       "      <th>numSubs</th>\n",
       "      <th>m_mean200</th>\n",
       "      <th>r_mean200</th>\n",
       "      <th>m_crit200</th>\n",
       "      <th>r_crit200</th>\n",
       "      <th>m_tophat</th>\n",
       "      <th>r_tophat</th>\n",
       "      <th>x</th>\n",
       "      <th>y</th>\n",
       "      <th>z</th>\n",
       "      <th>phKey</th>\n",
       "      <th>vx</th>\n",
       "      <th>vy</th>\n",
       "      <th>vz</th>\n",
       "    </tr>\n",
       "  </thead>\n",
       "  <tbody>\n",
       "    <tr>\n",
       "      <td>0</td>\n",
       "      <td>150390000000</td>\n",
       "      <td>150390000000000</td>\n",
       "      <td>15</td>\n",
       "      <td>23</td>\n",
       "      <td>1</td>\n",
       "      <td>140.6178</td>\n",
       "      <td>0.261417</td>\n",
       "      <td>140.6178</td>\n",
       "      <td>0.261417</td>\n",
       "      <td>140.6178</td>\n",
       "      <td>0.261417</td>\n",
       "      <td>32.63305</td>\n",
       "      <td>784.0032</td>\n",
       "      <td>203.344</td>\n",
       "      <td>40915</td>\n",
       "      <td>19.89944</td>\n",
       "      <td>144.6604</td>\n",
       "      <td>30.09615</td>\n",
       "    </tr>\n",
       "  </tbody>\n",
       "</table>\n",
       "</div>"
      ],
      "text/plain": [
       "          fofId   firstSubhaloId  snapnum  np  numSubs  m_mean200  r_mean200  \\\n",
       "0  150390000000  150390000000000       15  23        1   140.6178   0.261417   \n",
       "\n",
       "   m_crit200  r_crit200  m_tophat  r_tophat         x         y        z  \\\n",
       "0   140.6178   0.261417  140.6178  0.261417  32.63305  784.0032  203.344   \n",
       "\n",
       "   phKey        vx        vy        vz  \n",
       "0  40915  19.89944  144.6604  30.09615  "
      ]
     },
     "execution_count": 24,
     "metadata": {},
     "output_type": "execute_result"
    }
   ],
   "source": [
    "cj.executeQuery(f'select top 1 * from {tablename_fof}',context)\n",
    "#cj.executeQuery(f\"select column_name from information_schema.columns where table_name = N'{tablename_fof}'\",context)"
   ]
  },
  {
   "cell_type": "code",
   "execution_count": 9,
   "metadata": {},
   "outputs": [
    {
     "data": {
      "text/html": [
       "<div>\n",
       "<style scoped>\n",
       "    .dataframe tbody tr th:only-of-type {\n",
       "        vertical-align: middle;\n",
       "    }\n",
       "\n",
       "    .dataframe tbody tr th {\n",
       "        vertical-align: top;\n",
       "    }\n",
       "\n",
       "    .dataframe thead th {\n",
       "        text-align: right;\n",
       "    }\n",
       "</style>\n",
       "<table border=\"1\" class=\"dataframe\">\n",
       "  <thead>\n",
       "    <tr style=\"text-align: right;\">\n",
       "      <th></th>\n",
       "      <th>subhaloId</th>\n",
       "      <th>fofId</th>\n",
       "      <th>snapnum</th>\n",
       "      <th>np</th>\n",
       "      <th>x</th>\n",
       "      <th>y</th>\n",
       "      <th>z</th>\n",
       "      <th>phKey</th>\n",
       "      <th>vx</th>\n",
       "      <th>vy</th>\n",
       "      <th>vz</th>\n",
       "      <th>vDisp</th>\n",
       "      <th>vMax</th>\n",
       "      <th>spinX</th>\n",
       "      <th>spinY</th>\n",
       "      <th>spinZ</th>\n",
       "      <th>mostBoundId</th>\n",
       "      <th>halfmassRadius</th>\n",
       "    </tr>\n",
       "  </thead>\n",
       "  <tbody>\n",
       "    <tr>\n",
       "      <td>0</td>\n",
       "      <td>150390000000000</td>\n",
       "      <td>150390000000</td>\n",
       "      <td>15</td>\n",
       "      <td>23</td>\n",
       "      <td>32.63305</td>\n",
       "      <td>784.0032</td>\n",
       "      <td>203.344</td>\n",
       "      <td>40915</td>\n",
       "      <td>19.89944</td>\n",
       "      <td>144.6604</td>\n",
       "      <td>30.09615</td>\n",
       "      <td>284.2457</td>\n",
       "      <td>532.5858</td>\n",
       "      <td>-0.074459</td>\n",
       "      <td>-0.418313</td>\n",
       "      <td>-0.265333</td>\n",
       "      <td>218924066</td>\n",
       "      <td>0.015765</td>\n",
       "    </tr>\n",
       "  </tbody>\n",
       "</table>\n",
       "</div>"
      ],
      "text/plain": [
       "         subhaloId         fofId  snapnum  np         x         y        z  \\\n",
       "0  150390000000000  150390000000       15  23  32.63305  784.0032  203.344   \n",
       "\n",
       "   phKey        vx        vy        vz     vDisp      vMax     spinX  \\\n",
       "0  40915  19.89944  144.6604  30.09615  284.2457  532.5858 -0.074459   \n",
       "\n",
       "      spinY     spinZ  mostBoundId  halfmassRadius  \n",
       "0 -0.418313 -0.265333    218924066        0.015765  "
      ]
     },
     "execution_count": 9,
     "metadata": {},
     "output_type": "execute_result"
    }
   ],
   "source": [
    "cj.executeQuery(f'select top 1 * from {tablename_sub}',context)"
   ]
  },
  {
   "cell_type": "markdown",
   "metadata": {},
   "source": [
    "Note that the masses are in units of 1e10 Msun/h (unlike the binary catalog), radii and positions in units of Mpc/h, and velocities in km/s. Note also that in the FOF tables, `np` refers to the number of particles in the main subhalo (e.g. `FirstSubOfHalo` given by `firstSubhaloId`) and not the parent FOF group."
   ]
  },
  {
   "cell_type": "markdown",
   "metadata": {},
   "source": [
    "# 1. Single Run and Snapshot\n",
    "<a id=\"key1\"></a>"
   ]
  },
  {
   "cell_type": "markdown",
   "metadata": {},
   "source": [
    "## Select by mass\n",
    "<a id=\"singlemass\"></a>\n",
    "\n",
    "The primary keys are `fofId` and `subhaloId` for the FOF and Subhalo tables. FOF tables are indexed on `snapnum` and `m_crit200`, and Subhalo tables on `snapnum` and `vDisp`.\n",
    "\n",
    "Here we select halos above a given mass from a single run and snapshot. We define the minimum mass in the table's units of 1e10 Msun/h but return masses in units of Msun/h."
   ]
  },
  {
   "cell_type": "code",
   "execution_count": 22,
   "metadata": {},
   "outputs": [],
   "source": [
    "bigNumFOF = np.int(1e10)\n",
    "bigNumSub = np.int(1e3)*bigNumFOF"
   ]
  },
  {
   "cell_type": "code",
   "execution_count": 5,
   "metadata": {},
   "outputs": [
    {
     "data": {
      "text/html": [
       "<div>\n",
       "<style scoped>\n",
       "    .dataframe tbody tr th:only-of-type {\n",
       "        vertical-align: middle;\n",
       "    }\n",
       "\n",
       "    .dataframe tbody tr th {\n",
       "        vertical-align: top;\n",
       "    }\n",
       "\n",
       "    .dataframe thead th {\n",
       "        text-align: right;\n",
       "    }\n",
       "</style>\n",
       "<table border=\"1\" class=\"dataframe\">\n",
       "  <thead>\n",
       "    <tr style=\"text-align: right;\">\n",
       "      <th></th>\n",
       "      <th>np</th>\n",
       "      <th>numSubs</th>\n",
       "      <th>mass</th>\n",
       "      <th>radius</th>\n",
       "    </tr>\n",
       "  </thead>\n",
       "  <tbody>\n",
       "    <tr>\n",
       "      <td>0</td>\n",
       "      <td>34399</td>\n",
       "      <td>21</td>\n",
       "      <td>2.116298e+15</td>\n",
       "      <td>2.252916</td>\n",
       "    </tr>\n",
       "    <tr>\n",
       "      <td>1</td>\n",
       "      <td>35976</td>\n",
       "      <td>39</td>\n",
       "      <td>1.970758e+15</td>\n",
       "      <td>2.200039</td>\n",
       "    </tr>\n",
       "    <tr>\n",
       "      <td>2</td>\n",
       "      <td>29217</td>\n",
       "      <td>20</td>\n",
       "      <td>1.445832e+15</td>\n",
       "      <td>1.984169</td>\n",
       "    </tr>\n",
       "    <tr>\n",
       "      <td>3</td>\n",
       "      <td>27778</td>\n",
       "      <td>19</td>\n",
       "      <td>1.442457e+15</td>\n",
       "      <td>1.982453</td>\n",
       "    </tr>\n",
       "    <tr>\n",
       "      <td>4</td>\n",
       "      <td>23411</td>\n",
       "      <td>30</td>\n",
       "      <td>1.411521e+15</td>\n",
       "      <td>1.968359</td>\n",
       "    </tr>\n",
       "    <tr>\n",
       "      <td>...</td>\n",
       "      <td>...</td>\n",
       "      <td>...</td>\n",
       "      <td>...</td>\n",
       "      <td>...</td>\n",
       "    </tr>\n",
       "    <tr>\n",
       "      <td>11952</td>\n",
       "      <td>1792</td>\n",
       "      <td>1</td>\n",
       "      <td>1.000496e+14</td>\n",
       "      <td>0.814526</td>\n",
       "    </tr>\n",
       "    <tr>\n",
       "      <td>11953</td>\n",
       "      <td>2079</td>\n",
       "      <td>2</td>\n",
       "      <td>1.000496e+14</td>\n",
       "      <td>0.814302</td>\n",
       "    </tr>\n",
       "    <tr>\n",
       "      <td>11954</td>\n",
       "      <td>2229</td>\n",
       "      <td>3</td>\n",
       "      <td>1.000496e+14</td>\n",
       "      <td>0.813364</td>\n",
       "    </tr>\n",
       "    <tr>\n",
       "      <td>11955</td>\n",
       "      <td>2375</td>\n",
       "      <td>6</td>\n",
       "      <td>1.000496e+14</td>\n",
       "      <td>0.813073</td>\n",
       "    </tr>\n",
       "    <tr>\n",
       "      <td>11956</td>\n",
       "      <td>2192</td>\n",
       "      <td>3</td>\n",
       "      <td>1.000496e+14</td>\n",
       "      <td>0.814388</td>\n",
       "    </tr>\n",
       "  </tbody>\n",
       "</table>\n",
       "<p>11957 rows × 4 columns</p>\n",
       "</div>"
      ],
      "text/plain": [
       "          np  numSubs          mass    radius\n",
       "0      34399       21  2.116298e+15  2.252916\n",
       "1      35976       39  1.970758e+15  2.200039\n",
       "2      29217       20  1.445832e+15  1.984169\n",
       "3      27778       19  1.442457e+15  1.982453\n",
       "4      23411       30  1.411521e+15  1.968359\n",
       "...      ...      ...           ...       ...\n",
       "11952   1792        1  1.000496e+14  0.814526\n",
       "11953   2079        2  1.000496e+14  0.814302\n",
       "11954   2229        3  1.000496e+14  0.813364\n",
       "11955   2375        6  1.000496e+14  0.813073\n",
       "11956   2192        3  1.000496e+14  0.814388\n",
       "\n",
       "[11957 rows x 4 columns]"
      ]
     },
     "execution_count": 5,
     "metadata": {},
     "output_type": "execute_result"
    }
   ],
   "source": [
    "minmass = 10000.  # minmass = 1e4 corresponds to 1e14 Msun/h.\n",
    "sql = f\"\"\"select np, numSubs, m_crit200*1.0e10 as mass, r_crit200 as radius from {tablename_fof}\n",
    "    where snapnum = {snapnum} and m_crit200 > {minmass}\n",
    "    order by mass desc\n",
    "\"\"\"\n",
    "cj.executeQuery(sql,context)"
   ]
  },
  {
   "cell_type": "markdown",
   "metadata": {},
   "source": [
    "## Select by mass and select subhalos\n",
    "<a id=\"singlejoin\"></a>\n",
    "\n",
    "Here we again select halos above a given mass from a given run and snapshot. We also return subhalos of these halos using SQL `inner join` and the positions of the subhalos. (Note that masses are only defined for FOF groups == main subhalos). We define a new column that keeps track of whether the halo is the main subhalo of the FOF group or not, using SQL `case when` syntax."
   ]
  },
  {
   "cell_type": "code",
   "execution_count": 6,
   "metadata": {},
   "outputs": [
    {
     "data": {
      "text/html": [
       "<div>\n",
       "<style scoped>\n",
       "    .dataframe tbody tr th:only-of-type {\n",
       "        vertical-align: middle;\n",
       "    }\n",
       "\n",
       "    .dataframe tbody tr th {\n",
       "        vertical-align: top;\n",
       "    }\n",
       "\n",
       "    .dataframe thead th {\n",
       "        text-align: right;\n",
       "    }\n",
       "</style>\n",
       "<table border=\"1\" class=\"dataframe\">\n",
       "  <thead>\n",
       "    <tr style=\"text-align: right;\">\n",
       "      <th></th>\n",
       "      <th>fofId</th>\n",
       "      <th>subhaloId</th>\n",
       "      <th>x</th>\n",
       "      <th>y</th>\n",
       "      <th>z</th>\n",
       "      <th>isMain</th>\n",
       "    </tr>\n",
       "  </thead>\n",
       "  <tbody>\n",
       "    <tr>\n",
       "      <td>0</td>\n",
       "      <td>581920000036</td>\n",
       "      <td>581920000036000</td>\n",
       "      <td>488.3484</td>\n",
       "      <td>613.3842</td>\n",
       "      <td>977.52970</td>\n",
       "      <td>1</td>\n",
       "    </tr>\n",
       "    <tr>\n",
       "      <td>1</td>\n",
       "      <td>581920000036</td>\n",
       "      <td>581920000036001</td>\n",
       "      <td>487.7340</td>\n",
       "      <td>612.3003</td>\n",
       "      <td>976.80780</td>\n",
       "      <td>0</td>\n",
       "    </tr>\n",
       "    <tr>\n",
       "      <td>2</td>\n",
       "      <td>581920000036</td>\n",
       "      <td>581920000036002</td>\n",
       "      <td>486.9972</td>\n",
       "      <td>613.2515</td>\n",
       "      <td>977.05280</td>\n",
       "      <td>0</td>\n",
       "    </tr>\n",
       "    <tr>\n",
       "      <td>3</td>\n",
       "      <td>581920000036</td>\n",
       "      <td>581920000036003</td>\n",
       "      <td>486.9918</td>\n",
       "      <td>612.0554</td>\n",
       "      <td>976.69300</td>\n",
       "      <td>0</td>\n",
       "    </tr>\n",
       "    <tr>\n",
       "      <td>4</td>\n",
       "      <td>581920000041</td>\n",
       "      <td>581920000041000</td>\n",
       "      <td>469.0871</td>\n",
       "      <td>529.7056</td>\n",
       "      <td>916.95680</td>\n",
       "      <td>1</td>\n",
       "    </tr>\n",
       "    <tr>\n",
       "      <td>...</td>\n",
       "      <td>...</td>\n",
       "      <td>...</td>\n",
       "      <td>...</td>\n",
       "      <td>...</td>\n",
       "      <td>...</td>\n",
       "      <td>...</td>\n",
       "    </tr>\n",
       "    <tr>\n",
       "      <td>50627</td>\n",
       "      <td>581090000039</td>\n",
       "      <td>581090000039001</td>\n",
       "      <td>610.1967</td>\n",
       "      <td>415.3548</td>\n",
       "      <td>107.79130</td>\n",
       "      <td>0</td>\n",
       "    </tr>\n",
       "    <tr>\n",
       "      <td>50628</td>\n",
       "      <td>581090000039</td>\n",
       "      <td>581090000039002</td>\n",
       "      <td>610.7502</td>\n",
       "      <td>415.1198</td>\n",
       "      <td>108.01340</td>\n",
       "      <td>0</td>\n",
       "    </tr>\n",
       "    <tr>\n",
       "      <td>50629</td>\n",
       "      <td>581100000037</td>\n",
       "      <td>581100000037000</td>\n",
       "      <td>659.3727</td>\n",
       "      <td>342.2936</td>\n",
       "      <td>184.45990</td>\n",
       "      <td>1</td>\n",
       "    </tr>\n",
       "    <tr>\n",
       "      <td>50630</td>\n",
       "      <td>581100000037</td>\n",
       "      <td>581100000037001</td>\n",
       "      <td>658.2983</td>\n",
       "      <td>342.3742</td>\n",
       "      <td>184.35700</td>\n",
       "      <td>0</td>\n",
       "    </tr>\n",
       "    <tr>\n",
       "      <td>50631</td>\n",
       "      <td>581100000046</td>\n",
       "      <td>581100000046000</td>\n",
       "      <td>686.1057</td>\n",
       "      <td>299.4900</td>\n",
       "      <td>78.51397</td>\n",
       "      <td>1</td>\n",
       "    </tr>\n",
       "  </tbody>\n",
       "</table>\n",
       "<p>50632 rows × 6 columns</p>\n",
       "</div>"
      ],
      "text/plain": [
       "              fofId        subhaloId         x         y          z  isMain\n",
       "0      581920000036  581920000036000  488.3484  613.3842  977.52970       1\n",
       "1      581920000036  581920000036001  487.7340  612.3003  976.80780       0\n",
       "2      581920000036  581920000036002  486.9972  613.2515  977.05280       0\n",
       "3      581920000036  581920000036003  486.9918  612.0554  976.69300       0\n",
       "4      581920000041  581920000041000  469.0871  529.7056  916.95680       1\n",
       "...             ...              ...       ...       ...        ...     ...\n",
       "50627  581090000039  581090000039001  610.1967  415.3548  107.79130       0\n",
       "50628  581090000039  581090000039002  610.7502  415.1198  108.01340       0\n",
       "50629  581100000037  581100000037000  659.3727  342.2936  184.45990       1\n",
       "50630  581100000037  581100000037001  658.2983  342.3742  184.35700       0\n",
       "50631  581100000046  581100000046000  686.1057  299.4900   78.51397       1\n",
       "\n",
       "[50632 rows x 6 columns]"
      ]
     },
     "execution_count": 6,
     "metadata": {},
     "output_type": "execute_result"
    }
   ],
   "source": [
    "minmass = 10000.  # minmass = 1e4 corresponds to 1e14 Msun/h.\n",
    "sql = f\"\"\"select h.fofId, s.subhaloId, s.x, s.y, s.z, \n",
    "        case when h.firstSubhaloId = s.subhaloId then 1 else 0 end as isMain\n",
    "    from {tablename_fof} h inner join {tablename_sub} s \n",
    "    on h.fofId = s.fofId\n",
    "    and h.snapnum = {snapnum} and h.m_crit200 > {minmass}\n",
    "\"\"\"\n",
    "df = cj.executeQuery(sql,context)\n",
    "df"
   ]
  },
  {
   "cell_type": "markdown",
   "metadata": {},
   "source": [
    "Let's plot them! We'll restrict the plot to a sub-volume of the full Gpc/h cube."
   ]
  },
  {
   "cell_type": "code",
   "execution_count": 27,
   "metadata": {},
   "outputs": [
    {
     "data": {
      "image/png": "[encoded data removed]",
      "text/plain": [
       "<Figure size 576x576 with 1 Axes>"
      ]
     },
     "metadata": {
      "needs_background": "light"
     },
     "output_type": "display_data"
    }
   ],
   "source": [
    "subdf = df[((df['x'] > 200) & (df['x'] < 600) & (df['y'] < 400) & (df['z'] > 300) & (df['z'] < 700))]\n",
    "fig = plt.figure(figsize=(8,8))\n",
    "ax = fig.add_subplot(111,projection='3d')\n",
    "ax.scatter(subdf['x'][subdf['isMain']==0].values,subdf['y'][subdf['isMain']==0].values,subdf['z'][subdf['isMain']==0].values,marker='.',color='k')\n",
    "ax.scatter(subdf['x'][subdf['isMain']==1].values,subdf['y'][subdf['isMain']==1].values,subdf['z'][subdf['isMain']==1].values,marker='o',color='m')\n",
    "ax.set_xlabel('x (Mpc/h)')\n",
    "ax.set_ylabel('y (Mpc/h)')\n",
    "ax.set_zlabel('z (Mpc/h)');"
   ]
  },
  {
   "cell_type": "markdown",
   "metadata": {},
   "source": [
    "## Connect DB Halos to Binary Catalog\n",
    "<a id=\"binary\"></a>\n",
    "\n",
    "It is possible to connect the halos in the database tables to the corresponding halos as read by the binary catalog. Since all of the catalog information is already in the database tables, the main reason you might want to do this is to pick out the particles in a halo by appropriately indexing the ID arrays returned with `indra.getfofids` and `indra.getsubids`. (See `read_examples.ipynb` for how to do that.)\n",
    "\n",
    "We'll start with the FOF groups. The database tables only contain those groups with at least one subhalo (which means the group has not been dissolved by the SUBFIND unbinding process)."
   ]
  },
  {
   "cell_type": "code",
   "execution_count": 16,
   "metadata": {},
   "outputs": [],
   "source": [
    "cat = indra.getsubcat((X,Y,Z),snapnum)\n",
    "hasSubs = np.where(cat['NsubPerHalo'] > 0)[0]"
   ]
  },
  {
   "cell_type": "markdown",
   "metadata": {},
   "source": [
    "To relate the `fofId` values we will index a dataframe that contains all, and only, the FOF halos in this Indra run and at this `snapnum`, ordered by `fofId`."
   ]
  },
  {
   "cell_type": "code",
   "execution_count": 17,
   "metadata": {},
   "outputs": [],
   "source": [
    "fofdf = cj.executeQuery(f'select fofid, np from {tablename_fof} where snapnum={snapnum} order by fofid',context)"
   ]
  },
  {
   "cell_type": "markdown",
   "metadata": {},
   "source": [
    "As an example, let's match the 4 halos containing the most particles. As noted before, `np` in the database refers to the number of particles in the main subhalo (e.g. `FirstSubOfHalo` given by `firstSubhaloId`) and not the parent FOF group, so the appropriate value in the catalog is the `subLen` of the `FirstSubOfHalo`, where `FirstSubOfHalo` is indexed by the FOF ID."
   ]
  },
  {
   "cell_type": "code",
   "execution_count": 24,
   "metadata": {},
   "outputs": [],
   "source": [
    "halos = cj.executeQuery(f\"select top 4 fofid, np from {tablename_fof} where snapnum={snapnum} order by np desc\",context)"
   ]
  },
  {
   "cell_type": "code",
   "execution_count": 32,
   "metadata": {},
   "outputs": [
    {
     "data": {
      "text/plain": [
       "[2637425, 412448, 1620767, 2637426]"
      ]
     },
     "execution_count": 32,
     "metadata": {},
     "output_type": "execute_result"
    }
   ],
   "source": [
    "binfofids = [hasSubs[fofdf.index[fofdf['fofid'] == halos['fofid'][i]].values[0]] for i in range(len(halos))]\n",
    "binfofids"
   ]
  },
  {
   "cell_type": "code",
   "execution_count": 22,
   "metadata": {},
   "outputs": [
    {
     "name": "stdout",
     "output_type": "stream",
     "text": [
      "Np from catalog = 35976, Np from DB = 35976\n",
      "Np from catalog = 34399, Np from DB = 34399\n",
      "Np from catalog = 31746, Np from DB = 31746\n",
      "Np from catalog = 29217, Np from DB = 29217\n"
     ]
    }
   ],
   "source": [
    "for i in range(len(halos)):\n",
    "    print('Np from catalog = {}, Np from DB = {}'.format(cat['subLen'][cat['FirstSubOfHalo'][binfofids[i]]],fofdf['np'][fofdf['fofid']==halos['fofid'][i]].values[0]))"
   ]
  },
  {
   "cell_type": "markdown",
   "metadata": {},
   "source": [
    "The subhalo tables contain all of the subhalos in the binary catalogs, so they are a bit simpler."
   ]
  },
  {
   "cell_type": "code",
   "execution_count": 25,
   "metadata": {},
   "outputs": [],
   "source": [
    "subdf = cj.executeQuery(f'select subhaloId, np from {tablename_sub} where snapnum={snapnum} order by subhaloId',context)"
   ]
  },
  {
   "cell_type": "code",
   "execution_count": 26,
   "metadata": {},
   "outputs": [],
   "source": [
    "subhalos = cj.executeQuery(f\"select top 4 subhaloId, np from {tablename_sub} where snapnum={snapnum} order by np desc\",context)"
   ]
  },
  {
   "cell_type": "code",
   "execution_count": 33,
   "metadata": {},
   "outputs": [
    {
     "data": {
      "text/plain": [
       "[2685385, 419897, 1650306, 2685424]"
      ]
     },
     "execution_count": 33,
     "metadata": {},
     "output_type": "execute_result"
    }
   ],
   "source": [
    "binsubids = [subdf.index[subdf['subhaloId'] == subhalos['subhaloId'][i]].values[0] for i in range(len(subhalos))]\n",
    "binsubids"
   ]
  },
  {
   "cell_type": "code",
   "execution_count": 34,
   "metadata": {},
   "outputs": [
    {
     "name": "stdout",
     "output_type": "stream",
     "text": [
      "Np from catalog = 35976, Np from DB = 35976\n",
      "Np from catalog = 34399, Np from DB = 34399\n",
      "Np from catalog = 31746, Np from DB = 31746\n",
      "Np from catalog = 29217, Np from DB = 29217\n"
     ]
    }
   ],
   "source": [
    "for i in range(len(subhalos)):\n",
    "    print('Np from catalog = {}, Np from DB = {}'.format(cat['subLen'][binsubids[i]],subdf['np'][subdf['subhaloId']==subhalos['subhaloId'][i]].values[0]))"
   ]
  },
  {
   "cell_type": "markdown",
   "metadata": {},
   "source": [
    "# 2. Single Run and Multiple Snapshots\n",
    "<a id=\"key2\"></a>"
   ]
  },
  {
   "cell_type": "markdown",
   "metadata": {},
   "source": [
    "## Select massive halos in each snapshot\n",
    "<a id=\"masssnaps\"></a>\n",
    "\n",
    "In this example we'll select the most massive halo from each snapshot of a given run, while noting that the most massive halo won't necessarily be \"the same\" halo across snapshots.\n",
    "\n",
    "Selecting the most massive halo in SQL uses the aggregate function `MAX` with the `GROUP BY` syntax to aggregate by `snapnum`. To select other columns that correspond to this maximum-mass halo row, use `join` on the results of the aggregating `select` clause. Note that if the two most massive halos have the same mass (unlikely but possible at early snapshots), both are returned."
   ]
  },
  {
   "cell_type": "code",
   "execution_count": 12,
   "metadata": {},
   "outputs": [
    {
     "data": {
      "text/html": [
       "<div>\n",
       "<style scoped>\n",
       "    .dataframe tbody tr th:only-of-type {\n",
       "        vertical-align: middle;\n",
       "    }\n",
       "\n",
       "    .dataframe tbody tr th {\n",
       "        vertical-align: top;\n",
       "    }\n",
       "\n",
       "    .dataframe thead th {\n",
       "        text-align: right;\n",
       "    }\n",
       "</style>\n",
       "<table border=\"1\" class=\"dataframe\">\n",
       "  <thead>\n",
       "    <tr style=\"text-align: right;\">\n",
       "      <th></th>\n",
       "      <th>snapnum</th>\n",
       "      <th>np</th>\n",
       "      <th>numSubs</th>\n",
       "      <th>radius</th>\n",
       "      <th>mass</th>\n",
       "      <th>x</th>\n",
       "      <th>y</th>\n",
       "      <th>z</th>\n",
       "    </tr>\n",
       "  </thead>\n",
       "  <tbody>\n",
       "    <tr>\n",
       "      <td>0</td>\n",
       "      <td>15</td>\n",
       "      <td>30</td>\n",
       "      <td>1</td>\n",
       "      <td>0.265511</td>\n",
       "      <td>1.757722e+12</td>\n",
       "      <td>236.3941</td>\n",
       "      <td>112.0773</td>\n",
       "      <td>781.6100</td>\n",
       "    </tr>\n",
       "    <tr>\n",
       "      <td>1</td>\n",
       "      <td>16</td>\n",
       "      <td>35</td>\n",
       "      <td>1</td>\n",
       "      <td>0.323328</td>\n",
       "      <td>2.460811e+12</td>\n",
       "      <td>236.5246</td>\n",
       "      <td>112.0514</td>\n",
       "      <td>781.6426</td>\n",
       "    </tr>\n",
       "    <tr>\n",
       "      <td>2</td>\n",
       "      <td>17</td>\n",
       "      <td>78</td>\n",
       "      <td>1</td>\n",
       "      <td>0.381431</td>\n",
       "      <td>3.585754e+12</td>\n",
       "      <td>236.7110</td>\n",
       "      <td>112.1097</td>\n",
       "      <td>781.7067</td>\n",
       "    </tr>\n",
       "    <tr>\n",
       "      <td>3</td>\n",
       "      <td>18</td>\n",
       "      <td>94</td>\n",
       "      <td>1</td>\n",
       "      <td>0.453455</td>\n",
       "      <td>6.046565e+12</td>\n",
       "      <td>236.9895</td>\n",
       "      <td>112.0399</td>\n",
       "      <td>781.6568</td>\n",
       "    </tr>\n",
       "    <tr>\n",
       "      <td>4</td>\n",
       "      <td>19</td>\n",
       "      <td>119</td>\n",
       "      <td>1</td>\n",
       "      <td>0.503971</td>\n",
       "      <td>8.366758e+12</td>\n",
       "      <td>237.0539</td>\n",
       "      <td>111.9012</td>\n",
       "      <td>781.6778</td>\n",
       "    </tr>\n",
       "    <tr>\n",
       "      <td>5</td>\n",
       "      <td>20</td>\n",
       "      <td>158</td>\n",
       "      <td>1</td>\n",
       "      <td>0.534648</td>\n",
       "      <td>9.983863e+12</td>\n",
       "      <td>237.3519</td>\n",
       "      <td>112.0080</td>\n",
       "      <td>781.6508</td>\n",
       "    </tr>\n",
       "    <tr>\n",
       "      <td>6</td>\n",
       "      <td>21</td>\n",
       "      <td>193</td>\n",
       "      <td>1</td>\n",
       "      <td>0.574975</td>\n",
       "      <td>1.237437e+13</td>\n",
       "      <td>237.3902</td>\n",
       "      <td>111.7825</td>\n",
       "      <td>781.6188</td>\n",
       "    </tr>\n",
       "    <tr>\n",
       "      <td>7</td>\n",
       "      <td>22</td>\n",
       "      <td>264</td>\n",
       "      <td>1</td>\n",
       "      <td>0.614943</td>\n",
       "      <td>1.504610e+13</td>\n",
       "      <td>436.3193</td>\n",
       "      <td>381.2192</td>\n",
       "      <td>248.3477</td>\n",
       "    </tr>\n",
       "  </tbody>\n",
       "</table>\n",
       "</div>"
      ],
      "text/plain": [
       "   snapnum   np  numSubs    radius          mass         x         y         z\n",
       "0       15   30        1  0.265511  1.757722e+12  236.3941  112.0773  781.6100\n",
       "1       16   35        1  0.323328  2.460811e+12  236.5246  112.0514  781.6426\n",
       "2       17   78        1  0.381431  3.585754e+12  236.7110  112.1097  781.7067\n",
       "3       18   94        1  0.453455  6.046565e+12  236.9895  112.0399  781.6568\n",
       "4       19  119        1  0.503971  8.366758e+12  237.0539  111.9012  781.6778\n",
       "5       20  158        1  0.534648  9.983863e+12  237.3519  112.0080  781.6508\n",
       "6       21  193        1  0.574975  1.237437e+13  237.3902  111.7825  781.6188\n",
       "7       22  264        1  0.614943  1.504610e+13  436.3193  381.2192  248.3477"
      ]
     },
     "execution_count": 12,
     "metadata": {},
     "output_type": "execute_result"
    }
   ],
   "source": [
    "sql = f\"\"\"select h.snapnum, h.np, h.numSubs, h.r_crit200 as radius, h.m_crit200*1.0e10 as mass,\n",
    "        h.x, h.y, h.z\n",
    "    from {tablename_fof} h join (select MAX(m_crit200) as mass, snapnum FROM {tablename_fof} GROUP BY snapnum) max\n",
    "        on h.m_crit200 = max.mass and h.snapnum = max.snapnum\n",
    "    order by h.snapnum\n",
    "\"\"\"\n",
    "df = cj.executeQuery(sql,context)\n",
    "df[:8]"
   ]
  },
  {
   "cell_type": "markdown",
   "metadata": {},
   "source": [
    "If you want the top N most massive halos at each snapshot, use the `rank` syntax: `partition by` determines what to group on (in this case `snapnum`), and `order by` determines how to assign ranks within the group."
   ]
  },
  {
   "cell_type": "code",
   "execution_count": 15,
   "metadata": {},
   "outputs": [
    {
     "data": {
      "text/html": [
       "<div>\n",
       "<style scoped>\n",
       "    .dataframe tbody tr th:only-of-type {\n",
       "        vertical-align: middle;\n",
       "    }\n",
       "\n",
       "    .dataframe tbody tr th {\n",
       "        vertical-align: top;\n",
       "    }\n",
       "\n",
       "    .dataframe thead th {\n",
       "        text-align: right;\n",
       "    }\n",
       "</style>\n",
       "<table border=\"1\" class=\"dataframe\">\n",
       "  <thead>\n",
       "    <tr style=\"text-align: right;\">\n",
       "      <th></th>\n",
       "      <th>snapnum</th>\n",
       "      <th>np</th>\n",
       "      <th>numSubs</th>\n",
       "      <th>radius</th>\n",
       "      <th>mass</th>\n",
       "      <th>x</th>\n",
       "      <th>y</th>\n",
       "      <th>z</th>\n",
       "      <th>rank</th>\n",
       "    </tr>\n",
       "  </thead>\n",
       "  <tbody>\n",
       "    <tr>\n",
       "      <td>0</td>\n",
       "      <td>47</td>\n",
       "      <td>19542</td>\n",
       "      <td>15</td>\n",
       "      <td>2.318074</td>\n",
       "      <td>1.338822e+15</td>\n",
       "      <td>229.57840</td>\n",
       "      <td>301.17080</td>\n",
       "      <td>873.21900</td>\n",
       "      <td>1</td>\n",
       "    </tr>\n",
       "    <tr>\n",
       "      <td>1</td>\n",
       "      <td>57</td>\n",
       "      <td>30830</td>\n",
       "      <td>21</td>\n",
       "      <td>2.163568</td>\n",
       "      <td>1.784862e+15</td>\n",
       "      <td>60.86296</td>\n",
       "      <td>776.95460</td>\n",
       "      <td>79.82032</td>\n",
       "      <td>2</td>\n",
       "    </tr>\n",
       "    <tr>\n",
       "      <td>2</td>\n",
       "      <td>39</td>\n",
       "      <td>7783</td>\n",
       "      <td>5</td>\n",
       "      <td>1.859413</td>\n",
       "      <td>5.129737e+14</td>\n",
       "      <td>970.20160</td>\n",
       "      <td>79.61378</td>\n",
       "      <td>282.15960</td>\n",
       "      <td>2</td>\n",
       "    </tr>\n",
       "    <tr>\n",
       "      <td>3</td>\n",
       "      <td>46</td>\n",
       "      <td>14790</td>\n",
       "      <td>13</td>\n",
       "      <td>2.153750</td>\n",
       "      <td>1.027072e+15</td>\n",
       "      <td>415.78410</td>\n",
       "      <td>696.23710</td>\n",
       "      <td>568.26050</td>\n",
       "      <td>3</td>\n",
       "    </tr>\n",
       "    <tr>\n",
       "      <td>4</td>\n",
       "      <td>56</td>\n",
       "      <td>27184</td>\n",
       "      <td>21</td>\n",
       "      <td>2.114430</td>\n",
       "      <td>1.584833e+15</td>\n",
       "      <td>149.96060</td>\n",
       "      <td>384.74900</td>\n",
       "      <td>983.94290</td>\n",
       "      <td>2</td>\n",
       "    </tr>\n",
       "    <tr>\n",
       "      <td>5</td>\n",
       "      <td>55</td>\n",
       "      <td>26184</td>\n",
       "      <td>26</td>\n",
       "      <td>2.205901</td>\n",
       "      <td>1.710897e+15</td>\n",
       "      <td>149.90880</td>\n",
       "      <td>384.74300</td>\n",
       "      <td>984.13800</td>\n",
       "      <td>1</td>\n",
       "    </tr>\n",
       "    <tr>\n",
       "      <td>6</td>\n",
       "      <td>55</td>\n",
       "      <td>25359</td>\n",
       "      <td>15</td>\n",
       "      <td>2.171155</td>\n",
       "      <td>1.631237e+15</td>\n",
       "      <td>348.45290</td>\n",
       "      <td>84.52158</td>\n",
       "      <td>898.82610</td>\n",
       "      <td>2</td>\n",
       "    </tr>\n",
       "    <tr>\n",
       "      <td>7</td>\n",
       "      <td>20</td>\n",
       "      <td>131</td>\n",
       "      <td>1</td>\n",
       "      <td>0.497562</td>\n",
       "      <td>9.280774e+12</td>\n",
       "      <td>105.42040</td>\n",
       "      <td>69.07778</td>\n",
       "      <td>44.89461</td>\n",
       "      <td>3</td>\n",
       "    </tr>\n",
       "    <tr>\n",
       "      <td>8</td>\n",
       "      <td>21</td>\n",
       "      <td>184</td>\n",
       "      <td>1</td>\n",
       "      <td>0.564665</td>\n",
       "      <td>1.181189e+13</td>\n",
       "      <td>105.26870</td>\n",
       "      <td>69.06668</td>\n",
       "      <td>44.96877</td>\n",
       "      <td>3</td>\n",
       "    </tr>\n",
       "    <tr>\n",
       "      <td>9</td>\n",
       "      <td>41</td>\n",
       "      <td>11658</td>\n",
       "      <td>14</td>\n",
       "      <td>2.088063</td>\n",
       "      <td>7.719213e+14</td>\n",
       "      <td>730.01050</td>\n",
       "      <td>637.35530</td>\n",
       "      <td>151.54800</td>\n",
       "      <td>1</td>\n",
       "    </tr>\n",
       "  </tbody>\n",
       "</table>\n",
       "</div>"
      ],
      "text/plain": [
       "   snapnum     np  numSubs    radius          mass          x          y  \\\n",
       "0       47  19542       15  2.318074  1.338822e+15  229.57840  301.17080   \n",
       "1       57  30830       21  2.163568  1.784862e+15   60.86296  776.95460   \n",
       "2       39   7783        5  1.859413  5.129737e+14  970.20160   79.61378   \n",
       "3       46  14790       13  2.153750  1.027072e+15  415.78410  696.23710   \n",
       "4       56  27184       21  2.114430  1.584833e+15  149.96060  384.74900   \n",
       "5       55  26184       26  2.205901  1.710897e+15  149.90880  384.74300   \n",
       "6       55  25359       15  2.171155  1.631237e+15  348.45290   84.52158   \n",
       "7       20    131        1  0.497562  9.280774e+12  105.42040   69.07778   \n",
       "8       21    184        1  0.564665  1.181189e+13  105.26870   69.06668   \n",
       "9       41  11658       14  2.088063  7.719213e+14  730.01050  637.35530   \n",
       "\n",
       "           z  rank  \n",
       "0  873.21900     1  \n",
       "1   79.82032     2  \n",
       "2  282.15960     2  \n",
       "3  568.26050     3  \n",
       "4  983.94290     2  \n",
       "5  984.13800     1  \n",
       "6  898.82610     2  \n",
       "7   44.89461     3  \n",
       "8   44.96877     3  \n",
       "9  151.54800     1  "
      ]
     },
     "execution_count": 15,
     "metadata": {},
     "output_type": "execute_result"
    }
   ],
   "source": [
    "n_massive = 3 # select n_massive most massive halos\n",
    "sql= f\"\"\"\n",
    "    with a as(\n",
    "        select fofid\n",
    "        ,    rank() over(partition by snapnum order by m_crit200 desc) as rank\n",
    "        from {tablename_fof})\n",
    "    select h.snapnum, h.np, h.numSubs, h.r_crit200 as radius, h.m_crit200*1.0e10 as mass,\n",
    "        h.x, h.y, h.z, a.rank \n",
    "    from a join {tablename_fof} h on h.fofid = a.fofid \n",
    "    where a.rank <= {n_massive}\n",
    "\"\"\"\n",
    "rankdf = cj.executeQuery(sql,context)\n",
    "rankdf[:10]"
   ]
  },
  {
   "cell_type": "markdown",
   "metadata": {},
   "source": [
    "For fun let's plot the most massive halo positions and color them by their `snapnum`."
   ]
  },
  {
   "cell_type": "code",
   "execution_count": 91,
   "metadata": {},
   "outputs": [
    {
     "data": {
      "image/png": "[encoded data removed]",
      "text/plain": [
       "<Figure size 576x432 with 2 Axes>"
      ]
     },
     "metadata": {
      "needs_background": "light"
     },
     "output_type": "display_data"
    }
   ],
   "source": [
    "fig = plt.figure(figsize=(8,6))\n",
    "plt.scatter(df['y'],df['z'],marker='o',s=50,c=df['snapnum'].values)\n",
    "plt.colorbar()\n",
    "plt.xlabel('y (Mpc/h)')\n",
    "plt.ylabel('z (Mpc/h)');"
   ]
  },
  {
   "cell_type": "markdown",
   "metadata": {},
   "source": [
    "## Calculate Mass Functions in Every Snapshot\n",
    "<a id=\"massfns\"></a>\n",
    "\n",
    "You can very quickly calculate the number of halos in bins of mass in SQL by using `floor` to round down the masses and then aggregating. (This is the [Millennium DB](http://gavo.mpa-garching.mpg.de/Millennium/Help?page=demo/genericqueries) example H5). Note that if there are no halos in a given mass range in a given snapshot, this will not return a count of 0 but will simply skip it."
   ]
  },
  {
   "cell_type": "code",
   "execution_count": 19,
   "metadata": {},
   "outputs": [],
   "source": [
    "binsize = .1\n",
    "sql = f\"\"\"select snapnum, power(10.0,{binsize}*floor(.5+log10(m_crit200)/{binsize}))*1e10 as mass, count(*) as num\n",
    "    from {tablename_fof}\n",
    "    where m_crit200 > 0\n",
    "    group by  snapnum, floor(.5+log10(m_crit200)/{binsize})\n",
    "    order by 1 desc, 2\n",
    "\"\"\"\n",
    "df = cj.executeQuery(sql,context)\n",
    "df"
   ]
  },
  {
   "cell_type": "code",
   "execution_count": 31,
   "metadata": {},
   "outputs": [
    {
     "data": {
      "image/png": "[encoded data removed]",
      "text/plain": [
       "<Figure size 432x288 with 1 Axes>"
      ]
     },
     "metadata": {
      "needs_background": "light"
     },
     "output_type": "display_data"
    }
   ],
   "source": [
    "sn = 63\n",
    "df[df['snapnum']==sn].plot(x='mass',y='num',logx=True,logy=True,title=f\"z={snaps['redshift'][snaps['snapnum']==sn].values[0]:.2f}\");"
   ]
  },
  {
   "cell_type": "code",
   "execution_count": 34,
   "metadata": {},
   "outputs": [
    {
     "data": {
      "image/png": "[encoded data removed]",
      "text/plain": [
       "<Figure size 432x288 with 1 Axes>"
      ]
     },
     "metadata": {
      "needs_background": "light"
     },
     "output_type": "display_data"
    }
   ],
   "source": [
    "sn = 20\n",
    "df[df['snapnum']==sn].plot(x='mass',y='num',logx=True,logy=True,title=f\"z={snaps['redshift'][snaps['snapnum']==sn].values[0]:.2}\");"
   ]
  },
  {
   "cell_type": "markdown",
   "metadata": {},
   "source": [
    "# 3. Multiple Runs and Single Snapshot\n",
    "<a id=\"key3\"></a>"
   ]
  },
  {
   "cell_type": "markdown",
   "metadata": {},
   "source": [
    "In the current schema, each Indra volume is in a separate table, and it is cumbersome to join many (hundreds of!) tables in one query. Instead, we will define a function that gets what we want from one table, then loop over that function for each desired Indra run.\n",
    "\n",
    "In this example we will calculate histograms of mass for one snapshot and many Indra runs, then compute the average and variance of the mass functions. **TO DO: compare to reading binary catalogs**"
   ]
  },
  {
   "cell_type": "code",
   "execution_count": 4,
   "metadata": {},
   "outputs": [],
   "source": [
    "def select_massfn(snapnum,table,binsize=.1,maxmass=None):\n",
    "    if maxmass is None:\n",
    "        sql = f\"\"\"select power(10.0,{binsize}*floor(.5+log10(m_crit200)/{binsize}))*1.0e10 as mass, count(*) as num\n",
    "            from {table}\n",
    "            where m_crit200 > 0 and snapnum = {snapnum}\n",
    "            group by floor(.5+log10(m_crit200)/{binsize})\n",
    "            order by 1\n",
    "        \"\"\"\n",
    "    else:\n",
    "        sql = f\"\"\"select power(10.0,{binsize}*floor(.5+log10(m_crit200)/{binsize}))*1.0e10 as mass, count(*) as num\n",
    "            from {table}\n",
    "            where m_crit200 > 0 and m_crit200 < {maxmass/1e10} and snapnum = {snapnum}\n",
    "            group by floor(.5+log10(m_crit200)/{binsize})\n",
    "            order by 1\n",
    "        \"\"\"\n",
    "    return sql"
   ]
  },
  {
   "cell_type": "code",
   "execution_count": 5,
   "metadata": {},
   "outputs": [],
   "source": [
    "# let's try a loop of 64. Use 3_Y_Z because 2_4_2 is missing (because of snap 59...).\n",
    "# we'll limit max mass to 1e15 in hopes that this means there are no empty bins\n",
    "runstart = indra.Run((3,0,0)).num\n",
    "nruns = 64\n",
    "boxsize=1000.\n",
    "maxmass = 1.0e15"
   ]
  },
  {
   "cell_type": "code",
   "execution_count": 6,
   "metadata": {},
   "outputs": [],
   "source": [
    "# how many bins will there be?\n",
    "df = cj.executeQuery(select_massfn(snapnum,'FOF_300',maxmass=maxmass),context)\n",
    "nbins = len(df)"
   ]
  },
  {
   "cell_type": "code",
   "execution_count": 7,
   "metadata": {},
   "outputs": [],
   "source": [
    "nhalo = np.zeros((nbins,nruns),dtype=np.float32)\n",
    "massfn = np.zeros((nbins,nruns),dtype=np.float32)\n",
    "for i, runnum in enumerate(range(runstart,runstart+nruns)):\n",
    "    run = indra.Run(runnum)\n",
    "    tablename = f'FOF_{run.X}{run.Y}{run.Z}'\n",
    "    df = cj.executeQuery(select_massfn(snapnum,tablename,maxmass=maxmass),context)\n",
    "    nhalo[:,i] = df['num'].values\n",
    "    massfn[:,i] = np.flipud(np.cumsum(np.flipud(nhalo[:,i])))/boxsize**3\n",
    "    # could be more careful here and save df['mass'] too"
   ]
  },
  {
   "cell_type": "code",
   "execution_count": 8,
   "metadata": {},
   "outputs": [
    {
     "data": {
      "text/plain": [
       "True"
      ]
     },
     "execution_count": 8,
     "metadata": {},
     "output_type": "execute_result"
    }
   ],
   "source": [
    "mbins = df['mass'].values # the last run queried\n",
    "len(df) == nbins"
   ]
  },
  {
   "cell_type": "code",
   "execution_count": 9,
   "metadata": {},
   "outputs": [],
   "source": [
    "mfmean = np.mean(massfn,1)\n",
    "mfsig = np.std(massfn,1)"
   ]
  },
  {
   "cell_type": "code",
   "execution_count": 10,
   "metadata": {},
   "outputs": [
    {
     "data": {
      "image/png": "[encoded data removed]",
      "text/plain": [
       "<Figure size 576x432 with 1 Axes>"
      ]
     },
     "metadata": {
      "needs_background": "light"
     },
     "output_type": "display_data"
    }
   ],
   "source": [
    "plt.figure(figsize=(8,6))\n",
    "plt.plot(mbins,mfmean,'k',linewidth=2,label='mean')\n",
    "plt.fill_between(mbins,mfmean-mfsig,mfmean+mfsig,alpha=.3,color='k')\n",
    "plt.xscale('log')\n",
    "plt.yscale('log')\n",
    "plt.xlabel(r'$M_{200}$ ($M_{\\odot}/h$)',size='large')\n",
    "plt.ylabel(r'$n(>M_{200}) (h^3/Mpc^3)$',size='large');"
   ]
  },
  {
   "cell_type": "code",
   "execution_count": 14,
   "metadata": {},
   "outputs": [],
   "source": [
    "nhmean = np.mean(nhalo,1)\n",
    "nhsig = np.std(nhalo,1)"
   ]
  },
  {
   "cell_type": "code",
   "execution_count": 15,
   "metadata": {},
   "outputs": [
    {
     "data": {
      "image/png": "[encoded data removed]",
      "text/plain": [
       "<Figure size 576x432 with 1 Axes>"
      ]
     },
     "metadata": {
      "needs_background": "light"
     },
     "output_type": "display_data"
    }
   ],
   "source": [
    "plt.figure(figsize=(8,6))\n",
    "plt.plot(mbins,nhsig/(nhmean*np.sqrt(nruns)))\n",
    "plt.xscale('log')\n",
    "plt.yscale('log')\n",
    "plt.xlabel(r'$M_{200}$ ($M_{\\odot}/h$)',size='large')\n",
    "plt.ylabel('Standard Error',size='large');"
   ]
  },
  {
   "cell_type": "code",
   "execution_count": null,
   "metadata": {},
   "outputs": [],
   "source": []
  },
  {
   "cell_type": "code",
   "execution_count": null,
   "metadata": {},
   "outputs": [],
   "source": []
  },
  {
   "cell_type": "code",
   "execution_count": null,
   "metadata": {},
   "outputs": [],
   "source": []
  },
  {
   "cell_type": "markdown",
   "metadata": {},
   "source": [
    "# More Complex Thing (like lightcone?)\n",
    "<a id=\"key4\"></a>"
   ]
  },
  {
   "cell_type": "code",
   "execution_count": null,
   "metadata": {},
   "outputs": [],
   "source": [
    "# TO DO: copy the shape functions (etc) from SimulationDB to the Indra database\n",
    "# This example would select halos in a lightcone, so wouldn't need the ParticlesInShapes functionality but could use the shape objects (if not the SQL shape functions)"
   ]
  },
  {
   "cell_type": "markdown",
   "metadata": {},
   "source": [
    "For queries that take some time or return a lot of data, use `submitJob` instead of `executeQuery` and save the results to a new table in your personal `MyDB` database context. We first need to drop this table if it already exists, e.g. if you have run this example before and want to run it again."
   ]
  },
  {
   "cell_type": "code",
   "execution_count": null,
   "metadata": {},
   "outputs": [],
   "source": [
    "# We create a table in your MyDB below: if you do have done this already, first drop the table\n",
    "temptable = f'some_name'\n",
    "sql=\"\"\"IF OBJECT_ID('{table}', 'U') IS NOT NULL \n",
    "  DROP TABLE {table}\n",
    "\"\"\".format(table=temptable)\n",
    "cj.executeQuery(sql,\"MyDB\")\n",
    "\n",
    "# Now execute the query\n",
    "sql = f\"\"\"select ....\n",
    "    into MyDB.{temptable}\n",
    "    from ....\n",
    "\"\"\"\n",
    "jobid = cj.submitJob(sql,context)\n",
    "cj.waitForJob(jobid,verbose=True)\n",
    "\n",
    "# Once it's done, select the results\n",
    "df = cj.executeQuery(f'select * from MyDB.{temptable} order by ....')"
   ]
  },
  {
   "cell_type": "code",
   "execution_count": null,
   "metadata": {},
   "outputs": [],
   "source": []
  },
  {
   "cell_type": "code",
   "execution_count": null,
   "metadata": {},
   "outputs": [],
   "source": []
  },
  {
   "cell_type": "code",
   "execution_count": null,
   "metadata": {},
   "outputs": [],
   "source": []
  }
 ],
 "metadata": {
  "kernelspec": {
   "display_name": "Python 3.7 (py37)",
   "language": "python",
   "name": "py37"
  },
  "language_info": {
   "codemirror_mode": {
    "name": "ipython",
    "version": 3
   },
   "file_extension": ".py",
   "mimetype": "text/x-python",
   "name": "python",
   "nbconvert_exporter": "python",
   "pygments_lexer": "ipython3",
   "version": "3.7.4"
  }
 },
 "nbformat": 4,
 "nbformat_minor": 4
}
