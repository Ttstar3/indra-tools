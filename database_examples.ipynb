{
 "cells": [
  {
   "cell_type": "markdown",
   "metadata": {},
   "source": [
    "# Table of Contents\n",
    "\n",
    "1. [Single Run and Snapshot](#key1)<br>\n",
    "    1.1 [Select Halos by Mass](#singlemass)<br>\n",
    "    1.2 [Join Halos to Subhalos](#singlejoin)\n",
    "2. [Single Run and Multiple Snapshots](#key2)<br>\n",
    "    2.1 [Select Massive Halos in Each Snapshot](#masssnaps)<br>\n",
    "    2.2 [Calculate Mass Functions](#massfns)\n",
    "3. [Multiple Runs and Single Snapshot](#key3)\n",
    "4. [More Complex Examples...](#key4)<br>\n",
    "    4.1. [Subitem1](#sub1)<br>\n",
    "    4.2. [Subitem2](#sub2)"
   ]
  },
  {
   "cell_type": "markdown",
   "metadata": {},
   "source": [
    "### This notebook gives examples of how to interact with the Indra halo database tables on the SciServer.\n",
    "Indra database tables contain halo and subhalo catalog information and are accessed by executing SQL queries. In many cases querying the database is much faster than reading the binary catalog files. More example queries that might be useful can be found at the [Virgo - Millennium Database](http://gavo.mpa-garching.mpg.de/Millennium/Help?page=demo/genericqueries) pages."
   ]
  },
  {
   "cell_type": "code",
   "execution_count": 1,
   "metadata": {},
   "outputs": [],
   "source": [
    "import numpy as np\n",
    "import matplotlib.pyplot as plt\n",
    "from mpl_toolkits.mplot3d import Axes3D\n",
    "import indratools as indra\n",
    "import pandas as pd\n",
    "import SciServer.CasJobs as cj"
   ]
  },
  {
   "cell_type": "markdown",
   "metadata": {},
   "source": [
    "The halo and subhalo catalogs are stored in tables in the 'Indra' database context. There are two tables for each Indra run, from 2_0_0 to 7_7_7, containing FOF group or Subhalo information for every snapshot."
   ]
  },
  {
   "cell_type": "code",
   "execution_count": 2,
   "metadata": {},
   "outputs": [],
   "source": [
    "context = \"Indra\"\n",
    "X = 2; Y = 3; Z = 4; snapnum = 58\n",
    "tablename_fof = f'FOF_{X}{Y}{Z}'\n",
    "tablename_sub = f'SubHalo_{X}{Y}{Z}'"
   ]
  },
  {
   "cell_type": "markdown",
   "metadata": {},
   "source": [
    "Snapshot redshift and scalefactor information is also stored in a table in the Indra database. **NOTE TO SELF** 'redshift' and 'z' redundant: re-do table?"
   ]
  },
  {
   "cell_type": "code",
   "execution_count": 3,
   "metadata": {},
   "outputs": [
    {
     "data": {
      "text/plain": [
       "array(['snapnum', 'redshift', 'time', 'z'], dtype=object)"
      ]
     },
     "execution_count": 3,
     "metadata": {},
     "output_type": "execute_result"
    }
   ],
   "source": [
    "snaps = cj.executeQuery(\"select * from Snapshots order by redshift\",context)\n",
    "snaps.columns.values"
   ]
  },
  {
   "cell_type": "code",
   "execution_count": 4,
   "metadata": {},
   "outputs": [
    {
     "data": {
      "text/plain": [
       "0.115883"
      ]
     },
     "execution_count": 4,
     "metadata": {},
     "output_type": "execute_result"
    }
   ],
   "source": [
    "snaps['z'][snaps['snapnum']==snapnum].values[0]"
   ]
  },
  {
   "cell_type": "code",
   "execution_count": null,
   "metadata": {},
   "outputs": [],
   "source": [
    "# Will probably want to say something about limitations of executeQuery (which I don't really know right now)\n",
    "# and I THINK if submitJob is used instead, the query needs to put results into a temporary table in MyDB? Can't select directly with submitJob?\n",
    "# e.g,    jobid=cj.submitJob(sql,context) where the sql text selects into MyDB.{table}\n",
    "#         %time cj.waitForJob(jobid,verbose=True)\n",
    "#         df=cj.executeQuery(\"select * from MyDB.{table}\".format(table=tablename))    "
   ]
  },
  {
   "cell_type": "markdown",
   "metadata": {},
   "source": [
    "There are two ways of executing SQL with the SciServer.CasJobs API: `executeQuery` and `submitJob`. **SEE DOCUMENTATION: ...** (executeQuery needs to take less than a minute, plus not have humongous output)\n",
    "\n",
    "Selecting a full halo catalog at a low-redshift snapshot requires too much memory for the `executeQuery` command. It is better to select only what you need, or if you want to use the entire catalog (FOF + Subhalo) of one snapshot of one Indra run, load the binary catalog with `cat = indra.getsubcat((X,Y,Z),snapnum)`.\n",
    "\n",
    "Here is a quick way to find out the column names of both tables:"
   ]
  },
  {
   "cell_type": "code",
   "execution_count": 24,
   "metadata": {},
   "outputs": [
    {
     "data": {
      "text/html": [
       "<div>\n",
       "<style scoped>\n",
       "    .dataframe tbody tr th:only-of-type {\n",
       "        vertical-align: middle;\n",
       "    }\n",
       "\n",
       "    .dataframe tbody tr th {\n",
       "        vertical-align: top;\n",
       "    }\n",
       "\n",
       "    .dataframe thead th {\n",
       "        text-align: right;\n",
       "    }\n",
       "</style>\n",
       "<table border=\"1\" class=\"dataframe\">\n",
       "  <thead>\n",
       "    <tr style=\"text-align: right;\">\n",
       "      <th></th>\n",
       "      <th>fofId</th>\n",
       "      <th>firstSubhaloId</th>\n",
       "      <th>snapnum</th>\n",
       "      <th>np</th>\n",
       "      <th>numSubs</th>\n",
       "      <th>m_mean200</th>\n",
       "      <th>r_mean200</th>\n",
       "      <th>m_crit200</th>\n",
       "      <th>r_crit200</th>\n",
       "      <th>m_tophat</th>\n",
       "      <th>r_tophat</th>\n",
       "      <th>x</th>\n",
       "      <th>y</th>\n",
       "      <th>z</th>\n",
       "      <th>phKey</th>\n",
       "      <th>vx</th>\n",
       "      <th>vy</th>\n",
       "      <th>vz</th>\n",
       "    </tr>\n",
       "  </thead>\n",
       "  <tbody>\n",
       "    <tr>\n",
       "      <td>0</td>\n",
       "      <td>150390000000</td>\n",
       "      <td>150390000000000</td>\n",
       "      <td>15</td>\n",
       "      <td>23</td>\n",
       "      <td>1</td>\n",
       "      <td>140.6178</td>\n",
       "      <td>0.261417</td>\n",
       "      <td>140.6178</td>\n",
       "      <td>0.261417</td>\n",
       "      <td>140.6178</td>\n",
       "      <td>0.261417</td>\n",
       "      <td>32.63305</td>\n",
       "      <td>784.0032</td>\n",
       "      <td>203.344</td>\n",
       "      <td>40915</td>\n",
       "      <td>19.89944</td>\n",
       "      <td>144.6604</td>\n",
       "      <td>30.09615</td>\n",
       "    </tr>\n",
       "  </tbody>\n",
       "</table>\n",
       "</div>"
      ],
      "text/plain": [
       "          fofId   firstSubhaloId  snapnum  np  numSubs  m_mean200  r_mean200  \\\n",
       "0  150390000000  150390000000000       15  23        1   140.6178   0.261417   \n",
       "\n",
       "   m_crit200  r_crit200  m_tophat  r_tophat         x         y        z  \\\n",
       "0   140.6178   0.261417  140.6178  0.261417  32.63305  784.0032  203.344   \n",
       "\n",
       "   phKey        vx        vy        vz  \n",
       "0  40915  19.89944  144.6604  30.09615  "
      ]
     },
     "execution_count": 24,
     "metadata": {},
     "output_type": "execute_result"
    }
   ],
   "source": [
    "cj.executeQuery(f'select top 1 * from {tablename_fof}',context)\n",
    "#cj.executeQuery(f\"select column_name from information_schema.columns where table_name = N'{tablename_fof}'\",context)"
   ]
  },
  {
   "cell_type": "code",
   "execution_count": 9,
   "metadata": {},
   "outputs": [
    {
     "data": {
      "text/html": [
       "<div>\n",
       "<style scoped>\n",
       "    .dataframe tbody tr th:only-of-type {\n",
       "        vertical-align: middle;\n",
       "    }\n",
       "\n",
       "    .dataframe tbody tr th {\n",
       "        vertical-align: top;\n",
       "    }\n",
       "\n",
       "    .dataframe thead th {\n",
       "        text-align: right;\n",
       "    }\n",
       "</style>\n",
       "<table border=\"1\" class=\"dataframe\">\n",
       "  <thead>\n",
       "    <tr style=\"text-align: right;\">\n",
       "      <th></th>\n",
       "      <th>subhaloId</th>\n",
       "      <th>fofId</th>\n",
       "      <th>snapnum</th>\n",
       "      <th>np</th>\n",
       "      <th>x</th>\n",
       "      <th>y</th>\n",
       "      <th>z</th>\n",
       "      <th>phKey</th>\n",
       "      <th>vx</th>\n",
       "      <th>vy</th>\n",
       "      <th>vz</th>\n",
       "      <th>vDisp</th>\n",
       "      <th>vMax</th>\n",
       "      <th>spinX</th>\n",
       "      <th>spinY</th>\n",
       "      <th>spinZ</th>\n",
       "      <th>mostBoundId</th>\n",
       "      <th>halfmassRadius</th>\n",
       "    </tr>\n",
       "  </thead>\n",
       "  <tbody>\n",
       "    <tr>\n",
       "      <td>0</td>\n",
       "      <td>150390000000000</td>\n",
       "      <td>150390000000</td>\n",
       "      <td>15</td>\n",
       "      <td>23</td>\n",
       "      <td>32.63305</td>\n",
       "      <td>784.0032</td>\n",
       "      <td>203.344</td>\n",
       "      <td>40915</td>\n",
       "      <td>19.89944</td>\n",
       "      <td>144.6604</td>\n",
       "      <td>30.09615</td>\n",
       "      <td>284.2457</td>\n",
       "      <td>532.5858</td>\n",
       "      <td>-0.074459</td>\n",
       "      <td>-0.418313</td>\n",
       "      <td>-0.265333</td>\n",
       "      <td>218924066</td>\n",
       "      <td>0.015765</td>\n",
       "    </tr>\n",
       "  </tbody>\n",
       "</table>\n",
       "</div>"
      ],
      "text/plain": [
       "         subhaloId         fofId  snapnum  np         x         y        z  \\\n",
       "0  150390000000000  150390000000       15  23  32.63305  784.0032  203.344   \n",
       "\n",
       "   phKey        vx        vy        vz     vDisp      vMax     spinX  \\\n",
       "0  40915  19.89944  144.6604  30.09615  284.2457  532.5858 -0.074459   \n",
       "\n",
       "      spinY     spinZ  mostBoundId  halfmassRadius  \n",
       "0 -0.418313 -0.265333    218924066        0.015765  "
      ]
     },
     "execution_count": 9,
     "metadata": {},
     "output_type": "execute_result"
    }
   ],
   "source": [
    "cj.executeQuery(f'select top 1 * from {tablename_sub}',context)"
   ]
  },
  {
   "cell_type": "markdown",
   "metadata": {},
   "source": [
    "Note that the masses are in units of 1e10 Msun/h (unlike the binary catalog), radii and positions in units of Mpc/h, and velocities in km/s. Note also that in the FOF tables, `np` refers to the number of particles in the main subhalo (e.g. FirstSubOfHalo given by firstSubhaloId) and not the parent FOF group."
   ]
  },
  {
   "cell_type": "markdown",
   "metadata": {},
   "source": [
    "# 1. Single Run and Snapshot\n",
    "<a id=\"key1\"></a>"
   ]
  },
  {
   "cell_type": "markdown",
   "metadata": {},
   "source": [
    "## Select by mass\n",
    "<a id=\"singlemass\"></a>\n",
    "\n",
    "The primary keys are `fofId` and `subhaloId` for the FOF and Subhalo tables. Since they contain the snapshot number, it is faster to search on them then on the `snapnum`. **TO DO** go back to selecting on `snapnum` after I've created indexes on all the tables.\n",
    "\n",
    "Here we select halos above a given mass from a single run and snapshot. We define the minimum mass in the table's units of 1e10 Msun/h but return masses in units of Msun/h."
   ]
  },
  {
   "cell_type": "code",
   "execution_count": 22,
   "metadata": {},
   "outputs": [],
   "source": [
    "bigNumFOF = np.int(1e10)\n",
    "bigNumSub = np.int(1e3)*bigNumFOF"
   ]
  },
  {
   "cell_type": "code",
   "execution_count": 23,
   "metadata": {},
   "outputs": [
    {
     "data": {
      "text/html": [
       "<div>\n",
       "<style scoped>\n",
       "    .dataframe tbody tr th:only-of-type {\n",
       "        vertical-align: middle;\n",
       "    }\n",
       "\n",
       "    .dataframe tbody tr th {\n",
       "        vertical-align: top;\n",
       "    }\n",
       "\n",
       "    .dataframe thead th {\n",
       "        text-align: right;\n",
       "    }\n",
       "</style>\n",
       "<table border=\"1\" class=\"dataframe\">\n",
       "  <thead>\n",
       "    <tr style=\"text-align: right;\">\n",
       "      <th></th>\n",
       "      <th>np</th>\n",
       "      <th>numSubs</th>\n",
       "      <th>mass</th>\n",
       "      <th>radius</th>\n",
       "    </tr>\n",
       "  </thead>\n",
       "  <tbody>\n",
       "    <tr>\n",
       "      <td>0</td>\n",
       "      <td>34399</td>\n",
       "      <td>21</td>\n",
       "      <td>2.116298e+15</td>\n",
       "      <td>2.252916</td>\n",
       "    </tr>\n",
       "    <tr>\n",
       "      <td>1</td>\n",
       "      <td>35976</td>\n",
       "      <td>39</td>\n",
       "      <td>1.970758e+15</td>\n",
       "      <td>2.200039</td>\n",
       "    </tr>\n",
       "    <tr>\n",
       "      <td>2</td>\n",
       "      <td>29217</td>\n",
       "      <td>20</td>\n",
       "      <td>1.445832e+15</td>\n",
       "      <td>1.984169</td>\n",
       "    </tr>\n",
       "    <tr>\n",
       "      <td>3</td>\n",
       "      <td>27778</td>\n",
       "      <td>19</td>\n",
       "      <td>1.442457e+15</td>\n",
       "      <td>1.982453</td>\n",
       "    </tr>\n",
       "    <tr>\n",
       "      <td>4</td>\n",
       "      <td>23411</td>\n",
       "      <td>30</td>\n",
       "      <td>1.411521e+15</td>\n",
       "      <td>1.968359</td>\n",
       "    </tr>\n",
       "    <tr>\n",
       "      <td>...</td>\n",
       "      <td>...</td>\n",
       "      <td>...</td>\n",
       "      <td>...</td>\n",
       "      <td>...</td>\n",
       "    </tr>\n",
       "    <tr>\n",
       "      <td>11952</td>\n",
       "      <td>2179</td>\n",
       "      <td>3</td>\n",
       "      <td>1.000496e+14</td>\n",
       "      <td>0.814434</td>\n",
       "    </tr>\n",
       "    <tr>\n",
       "      <td>11953</td>\n",
       "      <td>1473</td>\n",
       "      <td>2</td>\n",
       "      <td>1.000496e+14</td>\n",
       "      <td>0.813710</td>\n",
       "    </tr>\n",
       "    <tr>\n",
       "      <td>11954</td>\n",
       "      <td>2762</td>\n",
       "      <td>9</td>\n",
       "      <td>1.000496e+14</td>\n",
       "      <td>0.814338</td>\n",
       "    </tr>\n",
       "    <tr>\n",
       "      <td>11955</td>\n",
       "      <td>1470</td>\n",
       "      <td>5</td>\n",
       "      <td>1.000496e+14</td>\n",
       "      <td>0.813184</td>\n",
       "    </tr>\n",
       "    <tr>\n",
       "      <td>11956</td>\n",
       "      <td>2084</td>\n",
       "      <td>3</td>\n",
       "      <td>1.000496e+14</td>\n",
       "      <td>0.814190</td>\n",
       "    </tr>\n",
       "  </tbody>\n",
       "</table>\n",
       "<p>11957 rows × 4 columns</p>\n",
       "</div>"
      ],
      "text/plain": [
       "          np  numSubs          mass    radius\n",
       "0      34399       21  2.116298e+15  2.252916\n",
       "1      35976       39  1.970758e+15  2.200039\n",
       "2      29217       20  1.445832e+15  1.984169\n",
       "3      27778       19  1.442457e+15  1.982453\n",
       "4      23411       30  1.411521e+15  1.968359\n",
       "...      ...      ...           ...       ...\n",
       "11952   2179        3  1.000496e+14  0.814434\n",
       "11953   1473        2  1.000496e+14  0.813710\n",
       "11954   2762        9  1.000496e+14  0.814338\n",
       "11955   1470        5  1.000496e+14  0.813184\n",
       "11956   2084        3  1.000496e+14  0.814190\n",
       "\n",
       "[11957 rows x 4 columns]"
      ]
     },
     "execution_count": 23,
     "metadata": {},
     "output_type": "execute_result"
    }
   ],
   "source": [
    "minmass = 10000.  # minmass = 1e4 corresponds to 1e14 Msun/h.\n",
    "sql = f\"\"\"select np, numSubs, m_crit200*1.0e10 as mass, r_crit200 as radius from {tablename_fof}\n",
    "    where fofId between {snapnum}*{bigNumFOF} and {snapnum+1}*{bigNumFOF-1} and m_crit200 > {minmass}\n",
    "    order by mass desc\n",
    "\"\"\"\n",
    "cj.executeQuery(sql,context)"
   ]
  },
  {
   "cell_type": "code",
   "execution_count": 25,
   "metadata": {},
   "outputs": [
    {
     "data": {
      "text/html": [
       "<div>\n",
       "<style scoped>\n",
       "    .dataframe tbody tr th:only-of-type {\n",
       "        vertical-align: middle;\n",
       "    }\n",
       "\n",
       "    .dataframe tbody tr th {\n",
       "        vertical-align: top;\n",
       "    }\n",
       "\n",
       "    .dataframe thead th {\n",
       "        text-align: right;\n",
       "    }\n",
       "</style>\n",
       "<table border=\"1\" class=\"dataframe\">\n",
       "  <thead>\n",
       "    <tr style=\"text-align: right;\">\n",
       "      <th></th>\n",
       "      <th>np</th>\n",
       "      <th>snapnum</th>\n",
       "      <th>subhaloId</th>\n",
       "    </tr>\n",
       "  </thead>\n",
       "  <tbody>\n",
       "    <tr>\n",
       "      <td>0</td>\n",
       "      <td>14300</td>\n",
       "      <td>58</td>\n",
       "      <td>580000000000000</td>\n",
       "    </tr>\n",
       "    <tr>\n",
       "      <td>1</td>\n",
       "      <td>442</td>\n",
       "      <td>58</td>\n",
       "      <td>580000000000001</td>\n",
       "    </tr>\n",
       "    <tr>\n",
       "      <td>2</td>\n",
       "      <td>150</td>\n",
       "      <td>58</td>\n",
       "      <td>580000000000002</td>\n",
       "    </tr>\n",
       "    <tr>\n",
       "      <td>3</td>\n",
       "      <td>45</td>\n",
       "      <td>58</td>\n",
       "      <td>580000000000003</td>\n",
       "    </tr>\n",
       "    <tr>\n",
       "      <td>4</td>\n",
       "      <td>44</td>\n",
       "      <td>58</td>\n",
       "      <td>580000000000004</td>\n",
       "    </tr>\n",
       "  </tbody>\n",
       "</table>\n",
       "</div>"
      ],
      "text/plain": [
       "      np  snapnum        subhaloId\n",
       "0  14300       58  580000000000000\n",
       "1    442       58  580000000000001\n",
       "2    150       58  580000000000002\n",
       "3     45       58  580000000000003\n",
       "4     44       58  580000000000004"
      ]
     },
     "execution_count": 25,
     "metadata": {},
     "output_type": "execute_result"
    }
   ],
   "source": [
    "sql = f\"\"\"select top 5 np, snapnum, subhaloId from {tablename_sub}\n",
    "    where subhaloId between {snapnum}*{bigNumSub} and {snapnum+1}*{bigNumSub-1}\n",
    "\"\"\"\n",
    "cj.executeQuery(sql,context)"
   ]
  },
  {
   "cell_type": "markdown",
   "metadata": {},
   "source": [
    "## Select by mass and select subhalos\n",
    "<a id=\"singlejoin\"></a>\n",
    "\n",
    "Here we again select halos above a given mass from a given run and snapshot. We also return subhalos of these halos using SQL `inner join` and the positions of the subhalos. (Note that masses are only defined for FOF groups == main subhalos). We define a new column that keeps track of whether the halo is the main subhalo of the FOF group or not, using SQL `case when` syntax."
   ]
  },
  {
   "cell_type": "code",
   "execution_count": 26,
   "metadata": {},
   "outputs": [
    {
     "data": {
      "text/html": [
       "<div>\n",
       "<style scoped>\n",
       "    .dataframe tbody tr th:only-of-type {\n",
       "        vertical-align: middle;\n",
       "    }\n",
       "\n",
       "    .dataframe tbody tr th {\n",
       "        vertical-align: top;\n",
       "    }\n",
       "\n",
       "    .dataframe thead th {\n",
       "        text-align: right;\n",
       "    }\n",
       "</style>\n",
       "<table border=\"1\" class=\"dataframe\">\n",
       "  <thead>\n",
       "    <tr style=\"text-align: right;\">\n",
       "      <th></th>\n",
       "      <th>fofId</th>\n",
       "      <th>subhaloId</th>\n",
       "      <th>x</th>\n",
       "      <th>y</th>\n",
       "      <th>z</th>\n",
       "      <th>isMain</th>\n",
       "    </tr>\n",
       "  </thead>\n",
       "  <tbody>\n",
       "    <tr>\n",
       "      <td>0</td>\n",
       "      <td>580030000013</td>\n",
       "      <td>580030000013000</td>\n",
       "      <td>96.98681</td>\n",
       "      <td>26.78575</td>\n",
       "      <td>186.4446</td>\n",
       "      <td>1</td>\n",
       "    </tr>\n",
       "    <tr>\n",
       "      <td>1</td>\n",
       "      <td>580030000013</td>\n",
       "      <td>580030000013001</td>\n",
       "      <td>97.28732</td>\n",
       "      <td>26.48724</td>\n",
       "      <td>186.0073</td>\n",
       "      <td>0</td>\n",
       "    </tr>\n",
       "    <tr>\n",
       "      <td>2</td>\n",
       "      <td>580030000013</td>\n",
       "      <td>580030000013002</td>\n",
       "      <td>97.09623</td>\n",
       "      <td>26.42910</td>\n",
       "      <td>185.3907</td>\n",
       "      <td>0</td>\n",
       "    </tr>\n",
       "    <tr>\n",
       "      <td>3</td>\n",
       "      <td>580030000014</td>\n",
       "      <td>580030000014000</td>\n",
       "      <td>57.92788</td>\n",
       "      <td>101.50770</td>\n",
       "      <td>144.1088</td>\n",
       "      <td>1</td>\n",
       "    </tr>\n",
       "    <tr>\n",
       "      <td>4</td>\n",
       "      <td>580030000014</td>\n",
       "      <td>580030000014001</td>\n",
       "      <td>57.30006</td>\n",
       "      <td>99.97646</td>\n",
       "      <td>142.5220</td>\n",
       "      <td>0</td>\n",
       "    </tr>\n",
       "    <tr>\n",
       "      <td>...</td>\n",
       "      <td>...</td>\n",
       "      <td>...</td>\n",
       "      <td>...</td>\n",
       "      <td>...</td>\n",
       "      <td>...</td>\n",
       "      <td>...</td>\n",
       "    </tr>\n",
       "    <tr>\n",
       "      <td>50627</td>\n",
       "      <td>580560000010</td>\n",
       "      <td>580560000010005</td>\n",
       "      <td>438.01500</td>\n",
       "      <td>825.57890</td>\n",
       "      <td>168.1203</td>\n",
       "      <td>0</td>\n",
       "    </tr>\n",
       "    <tr>\n",
       "      <td>50628</td>\n",
       "      <td>580560000010</td>\n",
       "      <td>580560000010006</td>\n",
       "      <td>439.01390</td>\n",
       "      <td>826.66910</td>\n",
       "      <td>168.4584</td>\n",
       "      <td>0</td>\n",
       "    </tr>\n",
       "    <tr>\n",
       "      <td>50629</td>\n",
       "      <td>580560000042</td>\n",
       "      <td>580560000042000</td>\n",
       "      <td>410.24360</td>\n",
       "      <td>914.72090</td>\n",
       "      <td>142.2847</td>\n",
       "      <td>1</td>\n",
       "    </tr>\n",
       "    <tr>\n",
       "      <td>50630</td>\n",
       "      <td>580560000042</td>\n",
       "      <td>580560000042001</td>\n",
       "      <td>410.59960</td>\n",
       "      <td>913.41110</td>\n",
       "      <td>142.0255</td>\n",
       "      <td>0</td>\n",
       "    </tr>\n",
       "    <tr>\n",
       "      <td>50631</td>\n",
       "      <td>580560000042</td>\n",
       "      <td>580560000042002</td>\n",
       "      <td>411.02240</td>\n",
       "      <td>915.13090</td>\n",
       "      <td>141.3447</td>\n",
       "      <td>0</td>\n",
       "    </tr>\n",
       "  </tbody>\n",
       "</table>\n",
       "<p>50632 rows × 6 columns</p>\n",
       "</div>"
      ],
      "text/plain": [
       "              fofId        subhaloId          x          y         z  isMain\n",
       "0      580030000013  580030000013000   96.98681   26.78575  186.4446       1\n",
       "1      580030000013  580030000013001   97.28732   26.48724  186.0073       0\n",
       "2      580030000013  580030000013002   97.09623   26.42910  185.3907       0\n",
       "3      580030000014  580030000014000   57.92788  101.50770  144.1088       1\n",
       "4      580030000014  580030000014001   57.30006   99.97646  142.5220       0\n",
       "...             ...              ...        ...        ...       ...     ...\n",
       "50627  580560000010  580560000010005  438.01500  825.57890  168.1203       0\n",
       "50628  580560000010  580560000010006  439.01390  826.66910  168.4584       0\n",
       "50629  580560000042  580560000042000  410.24360  914.72090  142.2847       1\n",
       "50630  580560000042  580560000042001  410.59960  913.41110  142.0255       0\n",
       "50631  580560000042  580560000042002  411.02240  915.13090  141.3447       0\n",
       "\n",
       "[50632 rows x 6 columns]"
      ]
     },
     "execution_count": 26,
     "metadata": {},
     "output_type": "execute_result"
    }
   ],
   "source": [
    "minmass = 10000.  # So minmass = 1e4 corresponds to 1e14 Msun/h.\n",
    "sql = f\"\"\"select h.fofId, s.subhaloId, s.x, s.y, s.z, \n",
    "        case when h.firstSubhaloId = s.subhaloId then 1 else 0 end as isMain\n",
    "    from {tablename_fof} h inner join {tablename_sub} s \n",
    "    on h.fofId = s.fofId\n",
    "    and h.fofId between {snapnum}*{bigNumFOF} and {snapnum+1}*{bigNumFOF-1} and h.m_crit200 > {minmass}\n",
    "\"\"\"\n",
    "df = cj.executeQuery(sql,context)\n",
    "df"
   ]
  },
  {
   "cell_type": "markdown",
   "metadata": {},
   "source": [
    "Let's plot them! We'll restrict the plot to a sub-volume of the full Gpc/h cube."
   ]
  },
  {
   "cell_type": "code",
   "execution_count": 27,
   "metadata": {},
   "outputs": [
    {
     "data": {
      "image/png": "[encoded data removed]",
      "text/plain": [
       "<Figure size 576x576 with 1 Axes>"
      ]
     },
     "metadata": {
      "needs_background": "light"
     },
     "output_type": "display_data"
    }
   ],
   "source": [
    "subdf = df[((df['x'] > 200) & (df['x'] < 600) & (df['y'] < 400) & (df['z'] > 300) & (df['z'] < 700))]\n",
    "fig = plt.figure(figsize=(8,8))\n",
    "ax = fig.add_subplot(111,projection='3d')\n",
    "ax.scatter(subdf['x'][subdf['isMain']==0].values,subdf['y'][subdf['isMain']==0].values,subdf['z'][subdf['isMain']==0].values,marker='.',color='k')\n",
    "ax.scatter(subdf['x'][subdf['isMain']==1].values,subdf['y'][subdf['isMain']==1].values,subdf['z'][subdf['isMain']==1].values,marker='o',color='m')\n",
    "ax.set_xlabel('x (Mpc/h)')\n",
    "ax.set_ylabel('y (Mpc/h)')\n",
    "ax.set_zlabel('z (Mpc/h)');"
   ]
  },
  {
   "cell_type": "markdown",
   "metadata": {},
   "source": [
    "# 2. Single Run and Multiple Snapshots\n",
    "<a id=\"key2\"></a>"
   ]
  },
  {
   "cell_type": "markdown",
   "metadata": {},
   "source": [
    "## Select massive halos in each snapshot\n",
    "<a id=\"masssnaps\"></a>\n",
    "\n",
    "In this example we'll select the most massive halo from each snapshot of a given run, while noting that the most massive halo won't necessarily be \"the same\" halo across snapshots.\n",
    "\n",
    "Since this query can take some time, we will use `submitJob` instead of `executeQuery` and save the results to a new table in your personal `MyDB` database context. We first need to drop this table if it already exists, e.g. if you have run this example before and want to run it again."
   ]
  },
  {
   "cell_type": "code",
   "execution_count": 68,
   "metadata": {},
   "outputs": [
    {
     "data": {
      "text/html": [
       "<div>\n",
       "<style scoped>\n",
       "    .dataframe tbody tr th:only-of-type {\n",
       "        vertical-align: middle;\n",
       "    }\n",
       "\n",
       "    .dataframe tbody tr th {\n",
       "        vertical-align: top;\n",
       "    }\n",
       "\n",
       "    .dataframe thead th {\n",
       "        text-align: right;\n",
       "    }\n",
       "</style>\n",
       "<table border=\"1\" class=\"dataframe\">\n",
       "  <thead>\n",
       "    <tr style=\"text-align: right;\">\n",
       "      <th></th>\n",
       "      <th>Rows Affected</th>\n",
       "    </tr>\n",
       "  </thead>\n",
       "  <tbody>\n",
       "    <tr>\n",
       "      <td>0</td>\n",
       "      <td>0</td>\n",
       "    </tr>\n",
       "  </tbody>\n",
       "</table>\n",
       "</div>"
      ],
      "text/plain": [
       "   Rows Affected\n",
       "0              0"
      ]
     },
     "execution_count": 68,
     "metadata": {},
     "output_type": "execute_result"
    }
   ],
   "source": [
    "# We create a table in your MyDB below: if you do have done this already, first drop the table\n",
    "temptable = f'massive_{X}{Y}{Z}'\n",
    "sql=\"\"\"IF OBJECT_ID('{table}', 'U') IS NOT NULL \n",
    "  DROP TABLE {table}\n",
    "\"\"\".format(table=temptable)\n",
    "cj.executeQuery(sql,\"MyDB\")"
   ]
  },
  {
   "cell_type": "markdown",
   "metadata": {},
   "source": [
    "Selecting the most massive halo in SQL uses the aggregate function `MAX` with the `GROUP BY` syntax to aggregate by `snapnum`. Then, selecting other columns that correspond to this maximum-mass halo row uses `join` on the results of the aggregating `select` clause.\n",
    "\n",
    "**TO DO:** Use Gerard's better `rank by` syntax. (Takes under a minute, so we wouldn't need to `submitJob`"
   ]
  },
  {
   "cell_type": "code",
   "execution_count": null,
   "metadata": {},
   "outputs": [],
   "source": [
    "sql = f\"\"\"select h.snapnum, h.np, h.numSubs, h.r_crit200 as radius, h.m_crit200*1.0e10 as mass,\n",
    "        h.x, h.y, h.z\n",
    "    into MyDB.{temptable}\n",
    "    from {tablename_fof} h join (select MAX(m_crit200) as mass, snapnum FROM {tablename_fof} GROUP BY snapnum) max\n",
    "        on h.m_crit200 = max.mass and h.snapnum = max.snapnum\n",
    "\"\"\"\n",
    "jobid = cj.submitJob(sql,context)\n",
    "cj.waitForJob(jobid,verbose=True)"
   ]
  },
  {
   "cell_type": "code",
   "execution_count": 93,
   "metadata": {},
   "outputs": [
    {
     "data": {
      "text/html": [
       "<div>\n",
       "<style scoped>\n",
       "    .dataframe tbody tr th:only-of-type {\n",
       "        vertical-align: middle;\n",
       "    }\n",
       "\n",
       "    .dataframe tbody tr th {\n",
       "        vertical-align: top;\n",
       "    }\n",
       "\n",
       "    .dataframe thead th {\n",
       "        text-align: right;\n",
       "    }\n",
       "</style>\n",
       "<table border=\"1\" class=\"dataframe\">\n",
       "  <thead>\n",
       "    <tr style=\"text-align: right;\">\n",
       "      <th></th>\n",
       "      <th>snapnum</th>\n",
       "      <th>np</th>\n",
       "      <th>numSubs</th>\n",
       "      <th>radius</th>\n",
       "      <th>mass</th>\n",
       "      <th>x</th>\n",
       "      <th>y</th>\n",
       "      <th>z</th>\n",
       "    </tr>\n",
       "  </thead>\n",
       "  <tbody>\n",
       "    <tr>\n",
       "      <td>0</td>\n",
       "      <td>15</td>\n",
       "      <td>30</td>\n",
       "      <td>1</td>\n",
       "      <td>0.265511</td>\n",
       "      <td>1.757722e+12</td>\n",
       "      <td>236.3941</td>\n",
       "      <td>112.0773</td>\n",
       "      <td>781.6100</td>\n",
       "    </tr>\n",
       "    <tr>\n",
       "      <td>1</td>\n",
       "      <td>16</td>\n",
       "      <td>35</td>\n",
       "      <td>1</td>\n",
       "      <td>0.323328</td>\n",
       "      <td>2.460811e+12</td>\n",
       "      <td>236.5246</td>\n",
       "      <td>112.0514</td>\n",
       "      <td>781.6426</td>\n",
       "    </tr>\n",
       "    <tr>\n",
       "      <td>2</td>\n",
       "      <td>17</td>\n",
       "      <td>78</td>\n",
       "      <td>1</td>\n",
       "      <td>0.381431</td>\n",
       "      <td>3.585754e+12</td>\n",
       "      <td>236.7110</td>\n",
       "      <td>112.1097</td>\n",
       "      <td>781.7067</td>\n",
       "    </tr>\n",
       "    <tr>\n",
       "      <td>3</td>\n",
       "      <td>18</td>\n",
       "      <td>94</td>\n",
       "      <td>1</td>\n",
       "      <td>0.453455</td>\n",
       "      <td>6.046565e+12</td>\n",
       "      <td>236.9895</td>\n",
       "      <td>112.0399</td>\n",
       "      <td>781.6568</td>\n",
       "    </tr>\n",
       "    <tr>\n",
       "      <td>4</td>\n",
       "      <td>19</td>\n",
       "      <td>119</td>\n",
       "      <td>1</td>\n",
       "      <td>0.503971</td>\n",
       "      <td>8.366758e+12</td>\n",
       "      <td>237.0539</td>\n",
       "      <td>111.9012</td>\n",
       "      <td>781.6778</td>\n",
       "    </tr>\n",
       "    <tr>\n",
       "      <td>5</td>\n",
       "      <td>20</td>\n",
       "      <td>158</td>\n",
       "      <td>1</td>\n",
       "      <td>0.534648</td>\n",
       "      <td>9.983863e+12</td>\n",
       "      <td>237.3519</td>\n",
       "      <td>112.0080</td>\n",
       "      <td>781.6508</td>\n",
       "    </tr>\n",
       "    <tr>\n",
       "      <td>6</td>\n",
       "      <td>21</td>\n",
       "      <td>193</td>\n",
       "      <td>1</td>\n",
       "      <td>0.574975</td>\n",
       "      <td>1.237437e+13</td>\n",
       "      <td>237.3902</td>\n",
       "      <td>111.7825</td>\n",
       "      <td>781.6188</td>\n",
       "    </tr>\n",
       "    <tr>\n",
       "      <td>7</td>\n",
       "      <td>22</td>\n",
       "      <td>264</td>\n",
       "      <td>1</td>\n",
       "      <td>0.614943</td>\n",
       "      <td>1.504610e+13</td>\n",
       "      <td>436.3193</td>\n",
       "      <td>381.2192</td>\n",
       "      <td>248.3477</td>\n",
       "    </tr>\n",
       "  </tbody>\n",
       "</table>\n",
       "</div>"
      ],
      "text/plain": [
       "   snapnum   np  numSubs    radius          mass         x         y         z\n",
       "0       15   30        1  0.265511  1.757722e+12  236.3941  112.0773  781.6100\n",
       "1       16   35        1  0.323328  2.460811e+12  236.5246  112.0514  781.6426\n",
       "2       17   78        1  0.381431  3.585754e+12  236.7110  112.1097  781.7067\n",
       "3       18   94        1  0.453455  6.046565e+12  236.9895  112.0399  781.6568\n",
       "4       19  119        1  0.503971  8.366758e+12  237.0539  111.9012  781.6778\n",
       "5       20  158        1  0.534648  9.983863e+12  237.3519  112.0080  781.6508\n",
       "6       21  193        1  0.574975  1.237437e+13  237.3902  111.7825  781.6188\n",
       "7       22  264        1  0.614943  1.504610e+13  436.3193  381.2192  248.3477"
      ]
     },
     "execution_count": 93,
     "metadata": {},
     "output_type": "execute_result"
    }
   ],
   "source": [
    "df = cj.executeQuery('select * from MyDB.{} order by snapnum'.format(temptable))\n",
    "df[:8]"
   ]
  },
  {
   "cell_type": "markdown",
   "metadata": {},
   "source": [
    "For fun let's plot the halo positions and color them by their `snapnum`."
   ]
  },
  {
   "cell_type": "code",
   "execution_count": 91,
   "metadata": {},
   "outputs": [
    {
     "data": {
      "image/png": "[encoded data removed]",
      "text/plain": [
       "<Figure size 576x432 with 2 Axes>"
      ]
     },
     "metadata": {
      "needs_background": "light"
     },
     "output_type": "display_data"
    }
   ],
   "source": [
    "fig = plt.figure(figsize=(8,6))\n",
    "plt.scatter(df['y'],df['z'],marker='o',s=50,c=df['snapnum'].values)\n",
    "plt.colorbar()\n",
    "plt.xlabel('y (Mpc/h)')\n",
    "plt.ylabel('z (Mpc/h)');"
   ]
  },
  {
   "cell_type": "markdown",
   "metadata": {},
   "source": [
    "## Calculate Mass Functions \n",
    "<a id=\"massfns\"></a>\n",
    "\n",
    "select mass functions in SQL for every snapshot in one query.... this is Millennium demo H5...\n",
    "\n",
    "**TO DO:** get correct mass units, figure out how to group resulting table, handle empty bins, and plot"
   ]
  },
  {
   "cell_type": "code",
   "execution_count": null,
   "metadata": {},
   "outputs": [],
   "source": [
    "\n",
    "sql = f\"\"\"select snapnum,power(10.00,.1*floor(log10(m_crit200)/.1)) as m, count(*) as num\n",
    "    from {tablename_fof}\n",
    "    where m_crit200 > 0\n",
    "    group by  snapnum, floor(log10(m_crit200)/.1)\n",
    "    order by 1 desc, 2\n",
    "\"\"\"\n"
   ]
  },
  {
   "cell_type": "code",
   "execution_count": null,
   "metadata": {},
   "outputs": [],
   "source": []
  },
  {
   "cell_type": "markdown",
   "metadata": {},
   "source": [
    "# 3. Multiple Runs and Single Snapshot\n",
    "<a id=\"key3\"></a>"
   ]
  },
  {
   "cell_type": "code",
   "execution_count": null,
   "metadata": {},
   "outputs": [],
   "source": []
  },
  {
   "cell_type": "code",
   "execution_count": null,
   "metadata": {},
   "outputs": [],
   "source": [
    "# - select most massive halo from all runs for a given snapshot\n",
    "# DO I even know how to do this? Need to aggregate across/select from many tables... but if it's possible, might be faster than reading hundreds of binary file catalogs...\n",
    "# Maybe need to create a python function that can loop over tablenames for each run.... each selects most massive halo in given snapshot into new row of a MyDB table?\n",
    "# ... otherwise, don't want to write single SQL query that has names of hundreds of tables and does hundreds of joins..."
   ]
  },
  {
   "cell_type": "code",
   "execution_count": null,
   "metadata": {},
   "outputs": [],
   "source": []
  },
  {
   "cell_type": "code",
   "execution_count": null,
   "metadata": {},
   "outputs": [],
   "source": []
  },
  {
   "cell_type": "code",
   "execution_count": null,
   "metadata": {},
   "outputs": [],
   "source": []
  },
  {
   "cell_type": "markdown",
   "metadata": {},
   "source": [
    "# More Complex Thing (like lightcone?)\n",
    "<a id=\"key4\"></a>"
   ]
  },
  {
   "cell_type": "code",
   "execution_count": null,
   "metadata": {},
   "outputs": [],
   "source": [
    "# Is the \"SimulationDB\" context open to all or limited to a group? That is where the Shape, Box, etc. functions are for spatial queries\n",
    "# FOR THAT MATTER, is the \"Indra\" context currently open to all?"
   ]
  },
  {
   "cell_type": "code",
   "execution_count": null,
   "metadata": {},
   "outputs": [],
   "source": []
  },
  {
   "cell_type": "code",
   "execution_count": null,
   "metadata": {},
   "outputs": [],
   "source": []
  },
  {
   "cell_type": "code",
   "execution_count": null,
   "metadata": {},
   "outputs": [],
   "source": []
  }
 ],
 "metadata": {
  "kernelspec": {
   "display_name": "Python 3.7 (py37)",
   "language": "python",
   "name": "py37"
  },
  "language_info": {
   "codemirror_mode": {
    "name": "ipython",
    "version": 3
   },
   "file_extension": ".py",
   "mimetype": "text/x-python",
   "name": "python",
   "nbconvert_exporter": "python",
   "pygments_lexer": "ipython3",
   "version": "3.7.4"
  }
 },
 "nbformat": 4,
 "nbformat_minor": 4
}
