{
 "cells": [
  {
   "cell_type": "markdown",
   "metadata": {},
   "source": [
    "# Table of Contents\n",
    "\n",
    "1. [Header](#header)\n",
    "2. [Particles](#particles)\n",
    "3. [FFT Data](#fft)\n",
    "4. [Halo and Subhalo](#halo)<br>\n",
    "    4.1. [FOF Data](#fof)<br>\n",
    "    4.2. [SUBFIND Catalog](#subcat)"
   ]
  },
  {
   "cell_type": "markdown",
   "metadata": {},
   "source": [
    "### This notebook gives examples of how to use read_indra.py to read in Indra data on the SciServer."
   ]
  },
  {
   "cell_type": "code",
   "execution_count": null,
   "metadata": {},
   "outputs": [],
   "source": [
    "import numpy as np\n",
    "import matplotlib.pyplot as plt\n",
    "import indratools as indra"
   ]
  },
  {
   "cell_type": "markdown",
   "metadata": {},
   "source": [
    "Initialize the `runid` that specifies the Indra run and the snapshot of the particle data (`snapnum`) and FFT data (`tnum`) for redshift 0. `runid` can either be an integer from 0 to 511 or a tuple of (`X`,`Y`,`Z`) integers (each from 0 to 7), corresponding to the raveled and unraveled indices of an 8x8x8 cube."
   ]
  },
  {
   "cell_type": "code",
   "execution_count": null,
   "metadata": {},
   "outputs": [],
   "source": [
    "runid = (2, 0, 0); snapnum = 63; tnum = 504"
   ]
  },
  {
   "cell_type": "markdown",
   "metadata": {},
   "source": [
    "You can convert between raveled and unraveled Indra run IDs using the `Run` class."
   ]
  },
  {
   "cell_type": "code",
   "execution_count": null,
   "metadata": {},
   "outputs": [],
   "source": [
    "run = indra.Run(runid)\n",
    "print(run.num,run.X,run.Y,run.Z)"
   ]
  },
  {
   "cell_type": "markdown",
   "metadata": {},
   "source": [
    "The directory location `datadir` of run X_Y_Z on the FileDB is determined by `get_loc` and is the default data location. If `datascope = True` this sets `datadir` to the datascope directory location, e.g. `/datascope/indra4/4_5_6`. When `datadir` is specified in the reading functions, it determines which simulation is read, and `runid` is ignored."
   ]
  },
  {
   "cell_type": "code",
   "execution_count": null,
   "metadata": {},
   "outputs": [],
   "source": [
    "indra.get_loc(runid)"
   ]
  },
  {
   "cell_type": "markdown",
   "metadata": {},
   "source": [
    "# Header\n",
    "<a id=\"header\"></a>"
   ]
  },
  {
   "cell_type": "markdown",
   "metadata": {},
   "source": [
    "Length data are in units of Mpc/h, velocities in km/s, and masses in MSun/h. Set `verbose = True` to print the `datadir`."
   ]
  },
  {
   "cell_type": "code",
   "execution_count": null,
   "metadata": {},
   "outputs": [],
   "source": [
    "header = indra.getheader(runid,snapnum,verbose=True)\n",
    "print(header.keys())"
   ]
  },
  {
   "cell_type": "code",
   "execution_count": null,
   "metadata": {},
   "outputs": [],
   "source": [
    "print(header['num_files'],header['npart'],header['mass'],header['time'],header['BoxSize'])"
   ]
  },
  {
   "cell_type": "markdown",
   "metadata": {},
   "source": [
    "# Particles\n",
    "<a id=\"particles\"></a>"
   ]
  },
  {
   "cell_type": "markdown",
   "metadata": {},
   "source": [
    "Read the 64 snapshot numbers, redshifts, and scalefactors (for particle and halo data)."
   ]
  },
  {
   "cell_type": "code",
   "execution_count": null,
   "metadata": {},
   "outputs": [],
   "source": [
    "snaps,redshifts,times = indra.part_snapinfo()"
   ]
  },
  {
   "cell_type": "markdown",
   "metadata": {},
   "source": [
    "Or retrieve redshifts and scalefactors for a subset of snapnumbers."
   ]
  },
  {
   "cell_type": "code",
   "execution_count": null,
   "metadata": {},
   "outputs": [],
   "source": [
    "thisz, thisa = indra.part_snapinfo([41,snapnum])\n",
    "print(thisz,thisa)"
   ]
  },
  {
   "cell_type": "markdown",
   "metadata": {},
   "source": [
    "Read positions only, no sorting:"
   ]
  },
  {
   "cell_type": "code",
   "execution_count": null,
   "metadata": {},
   "outputs": [],
   "source": [
    "pos_ns = indra.getpos(runid,snapnum)\n",
    "print(pos_ns[0])"
   ]
  },
  {
   "cell_type": "markdown",
   "metadata": {},
   "source": [
    "Get velocities too, and sort particles and velocities by their IDs:"
   ]
  },
  {
   "cell_type": "code",
   "execution_count": null,
   "metadata": {},
   "outputs": [],
   "source": [
    "pos,vel,ids = indra.getparticles(runid,snapnum,sort=True)"
   ]
  },
  {
   "cell_type": "code",
   "execution_count": null,
   "metadata": {},
   "outputs": [],
   "source": [
    "print(pos[0],vel[0],np.max(ids))"
   ]
  },
  {
   "cell_type": "markdown",
   "metadata": {},
   "source": [
    "# FFT Data\n",
    "<a id=\"fft\"></a>"
   ]
  },
  {
   "cell_type": "markdown",
   "metadata": {},
   "source": [
    "Read the 505 snapshot numbers, redshifts, and scalefactors for FFT data (or a subset as with the particle snapshots)."
   ]
  },
  {
   "cell_type": "code",
   "execution_count": null,
   "metadata": {},
   "outputs": [],
   "source": [
    "fft_snaps,fft_redshifts,fft_times = indra.FFT_snapinfo()"
   ]
  },
  {
   "cell_type": "markdown",
   "metadata": {},
   "source": [
    "Compute the k vectors. These arrays have the same shape as the FFT data."
   ]
  },
  {
   "cell_type": "code",
   "execution_count": null,
   "metadata": {},
   "outputs": [],
   "source": [
    "kx,ky,kz = indra.getkvals()\n",
    "k = np.sqrt(kx*kx+ky*ky+kz*kz)"
   ]
  },
  {
   "cell_type": "markdown",
   "metadata": {},
   "source": [
    "Before reading, define some functions to calculate the power spectrum of this gridded FFT data."
   ]
  },
  {
   "cell_type": "code",
   "execution_count": null,
   "metadata": {},
   "outputs": [],
   "source": [
    "def powspec(fft_re,fft_im,nbins=100, k=k):\n",
    "    ps = fft_re*fft_re+fft_im*fft_im\n",
    "    ps = ps[k>0] # remove k = 0\n",
    "    k = k[k>0]\n",
    "    \n",
    "    # average PS in logarithmic bins of k\n",
    "    ps1d, kbin = np.histogram(np.log10(k),nbins,weights=ps)\n",
    "    counts = np.histogram(np.log10(k),nbins)[0]\n",
    "    ps1d = ps1d[counts>0]/counts[counts>0] \n",
    "    \n",
    "    binvals = kbin[0:nbins]+np.diff(kbin)//2\n",
    "    binvals = binvals[counts>0]\n",
    "    poisson = 1/np.sqrt(counts[counts>0])\n",
    "    \n",
    "    pk = {'k':10**binvals, 'ps': ps1d, 'poisson': poisson}\n",
    "    return pk"
   ]
  },
  {
   "cell_type": "code",
   "execution_count": null,
   "metadata": {},
   "outputs": [],
   "source": [
    "# the cosmology is hard-coded here but om = header['omega0']\n",
    "def growthfunc(a, om=0.272):\n",
    "    ol = 1-om\n",
    "#    a = 1./(1.+z)\n",
    "    da=a/10000.\n",
    "    integral = 0.\n",
    "    for i in range(10000):\n",
    "        aa=(i+1)*da\n",
    "        integral+=da/((aa*np.sqrt(om/(aa**3)+ol))**3)\n",
    "\n",
    "    return 5*om/2*np.sqrt(om/a**3+ol)*integral"
   ]
  },
  {
   "cell_type": "markdown",
   "metadata": {},
   "source": [
    "Read the CAMB linear power spectrum, which is normalized to z=0. (So to compare to Plin, multiply PS(z) by D(z)^2/D(z=0)^2.)"
   ]
  },
  {
   "cell_type": "code",
   "execution_count": null,
   "metadata": {},
   "outputs": [],
   "source": [
    "kth,pth = indra.get_pklin()"
   ]
  },
  {
   "cell_type": "markdown",
   "metadata": {},
   "source": [
    "Now plot the ratio of power spectra from the FFT data to the linear theory PS at different redshifts."
   ]
  },
  {
   "cell_type": "code",
   "execution_count": null,
   "metadata": {},
   "outputs": [],
   "source": [
    "fft_re,fft_im,a = indra.getfft(runid,tnum)\n",
    "pk = powspec(fft_re,fft_im) # need bins to interpolate linear PS\n",
    "bins = pk['k']\n",
    "plin = np.interp(bins,kth,pth)\n",
    "norm = header['BoxSize']**3/header['npart']**2\n",
    "plt.figure(figsize=(8,6))\n",
    "for i in np.arange(0,501,100):\n",
    "    fft_re,fft_im,a = indra.getfft(runid,i)\n",
    "    pk = powspec(fft_re,fft_im)\n",
    "    normL = growthfunc(a)**2/growthfunc(1)**2\n",
    "    plt.plot(pk['k'],(pk['ps']*norm)/(plin*normL),label=\"{:.3f}\".format(a)) \n",
    "plt.xscale('log')\n",
    "plt.legend(loc='upper left')\n",
    "plt.xlabel(r'$k$ (h/Mpc)',size='large')\n",
    "plt.ylabel(r'$P(a,k)/P_{lin}(k)$',size='large');"
   ]
  },
  {
   "cell_type": "markdown",
   "metadata": {},
   "source": [
    "Now measure the mean and variance of P(k) at redshift 1, excluding the first 128 simulations (which might be re-run in the future; see the paper for explanation.)"
   ]
  },
  {
   "cell_type": "code",
   "execution_count": null,
   "metadata": {},
   "outputs": [],
   "source": [
    "tnum = 327\n",
    "runstart = 128\n",
    "runfinish = 448\n",
    "numruns = runfinish-runstart\n",
    "# first read one to get size of bins\n",
    "fft_re,fft_im,a = indra.getfft(runid,tnum)\n",
    "pk = powspec(fft_re,fft_im)\n",
    "bins = pk['k']\n",
    "psz1 = np.zeros([len(bins),numruns])\n",
    "norm = header['BoxSize']**3/header['npart']**2\n",
    "for i,s in enumerate(range(runstart,runfinish)):\n",
    "    fft_re,fft_im,a = indra.getfft(s,tnum)\n",
    "    pk = powspec(fft_re,fft_im)\n",
    "    psz1[:,i] = pk['ps']*norm\n",
    "psmean = np.mean(psz1,1)\n",
    "psvar = np.std(psz1,1)"
   ]
  },
  {
   "cell_type": "code",
   "execution_count": null,
   "metadata": {},
   "outputs": [],
   "source": [
    "plt.figure(figsize=(8,6))\n",
    "plt.loglog(bins,psmean)\n",
    "plt.fill_between(bins,psmean-psvar,psmean+psvar,alpha=.3)\n",
    "plt.xlabel(r'$k$ (h/Mpc)',size='large')\n",
    "plt.ylabel(r'$P(k)$ ($h^{-1}$Mpc)$^3$',size='large')\n",
    "plt.title('z = {:.2} Power Spectra from FFT data, {} runs'.format(fft_redshifts[tnum],numruns),size='large');"
   ]
  },
  {
   "cell_type": "markdown",
   "metadata": {},
   "source": [
    "# Halo and Subhalo\n",
    "<a id=\"halo\"></a>"
   ]
  },
  {
   "cell_type": "markdown",
   "metadata": {},
   "source": [
    "The FOF (or 'group') and SUBFIND headers contain the total number of groups/subhalos."
   ]
  },
  {
   "cell_type": "code",
   "execution_count": null,
   "metadata": {},
   "outputs": [],
   "source": [
    "TotNgroups = indra.getsubheader(runid,snapnum,getfof=True)\n",
    "print(TotNgroups)\n",
    "TotNsubs = indra.getsubheader(runid,snapnum)\n",
    "print(TotNsubs)"
   ]
  },
  {
   "cell_type": "markdown",
   "metadata": {},
   "source": [
    "## FOF Data\n",
    "<a id=\"fof\"></a>"
   ]
  },
  {
   "cell_type": "markdown",
   "metadata": {},
   "source": [
    "If all you want is the number of particles in each FOF halo (to multiply by `header['mass']`, for example), this is given by `groupLen`."
   ]
  },
  {
   "cell_type": "code",
   "execution_count": null,
   "metadata": {},
   "outputs": [],
   "source": [
    "groupLen = indra.getfof(runid,snapnum)\n",
    "print(np.min(groupLen),np.max(groupLen))"
   ]
  },
  {
   "cell_type": "markdown",
   "metadata": {},
   "source": [
    "`groupOffset` gives the information needed to index `groupids`, the particle IDs in each group."
   ]
  },
  {
   "cell_type": "code",
   "execution_count": null,
   "metadata": {},
   "outputs": [],
   "source": [
    "groupLen,groupOffset,groupids = indra.getfofids(runid,snapnum)"
   ]
  },
  {
   "cell_type": "markdown",
   "metadata": {},
   "source": [
    "The IDs of the particles in halo i are given by:"
   ]
  },
  {
   "cell_type": "code",
   "execution_count": null,
   "metadata": {},
   "outputs": [],
   "source": [
    "i = 0\n",
    "haloIDs = groupids[groupOffset[i]:groupOffset[i]+groupLen[i]]"
   ]
  },
  {
   "cell_type": "markdown",
   "metadata": {},
   "source": [
    "Let's plot some particles! I know that halo 0 (in snapshot 63 of 2_0_0) doesn't cross any boundaries, so we can ignore periodic boundary conditions for now. This will only work if you called `getparticles` with `sort=True`."
   ]
  },
  {
   "cell_type": "code",
   "execution_count": null,
   "metadata": {},
   "outputs": [],
   "source": [
    "plt.figure(figsize=(8,8))\n",
    "plt.plot(pos[haloIDs,0],pos[haloIDs,1],'m.')\n",
    "plt.xlabel('x (Mpc/h)')\n",
    "plt.ylabel('y (Mpc/h)');"
   ]
  },
  {
   "cell_type": "markdown",
   "metadata": {},
   "source": [
    "## Subhalo Catalog\n",
    "<a id=\"subcat\"></a>"
   ]
  },
  {
   "cell_type": "markdown",
   "metadata": {},
   "source": [
    "There isn't much to the FOF data, since the unbinding procedure and calculation of halo properties is done by SUBFIND."
   ]
  },
  {
   "cell_type": "code",
   "execution_count": null,
   "metadata": {},
   "outputs": [],
   "source": [
    "cat = indra.getsubcat(runid,snapnum)\n",
    "subids = indra.getsubids(runid,snapnum)"
   ]
  },
  {
   "cell_type": "markdown",
   "metadata": {},
   "source": [
    "Some properties are defined for every FOF group, and some for every subhalo."
   ]
  },
  {
   "cell_type": "code",
   "execution_count": null,
   "metadata": {},
   "outputs": [],
   "source": [
    "for key in cat.keys():\n",
    "    keytype = 'TotNFOF' if len(cat[key]) == TotNgroups else 'TotNSub'\n",
    "    print('{} has length {} ({})'.format(key,keytype,len(cat[key])))"
   ]
  },
  {
   "cell_type": "code",
   "execution_count": null,
   "metadata": {},
   "outputs": [],
   "source": [
    "print(\"mean M200 = {:.3e} Msun/h; mean R200 = {:.3} Mpc/h; mean velocity = {:.4} km/s\".format(np.mean(cat['M200crit']),np.mean(cat['R200crit']),np.mean(np.abs(cat['SubVel']))))"
   ]
  },
  {
   "cell_type": "markdown",
   "metadata": {},
   "source": [
    "Indexing can get a bit tricky, so here are some examples. First let's pick the most massive FOF group with 5 subhalos."
   ]
  },
  {
   "cell_type": "code",
   "execution_count": null,
   "metadata": {},
   "outputs": [],
   "source": [
    "has5 = np.where(cat['NsubPerHalo'] == 5)[0]\n",
    "thishalo = np.argmax(cat['M200crit'][has5])\n",
    "thishalo = has5[thishalo] # get the index of this halo in the full array\n",
    "print('halo index = {}, M200 = {:.3e} Msun/h, R200 = {:.3} Mpc/h'.format(thishalo,cat['M200crit'][thishalo],cat['R200crit'][thishalo]))"
   ]
  },
  {
   "cell_type": "markdown",
   "metadata": {},
   "source": [
    "The IDs of the particles in this FOF halo (before unbinding) can be found via:"
   ]
  },
  {
   "cell_type": "code",
   "execution_count": null,
   "metadata": {},
   "outputs": [],
   "source": [
    "haloIDs = groupids[groupOffset[thishalo]:groupOffset[thishalo]+groupLen[thishalo]]"
   ]
  },
  {
   "cell_type": "markdown",
   "metadata": {},
   "source": [
    "Let's get the indices of the subhalos with this parent halo. We can do this in two ways."
   ]
  },
  {
   "cell_type": "code",
   "execution_count": null,
   "metadata": {},
   "outputs": [],
   "source": [
    "print(np.where(cat['subParentHalo'] == thishalo)[0])\n",
    "subindices = cat['FirstSubOfHalo'][thishalo]+np.arange(cat['NsubPerHalo'][thishalo])\n",
    "print(subindices)"
   ]
  },
  {
   "cell_type": "markdown",
   "metadata": {},
   "source": [
    "The halo positions are calculated for every subhalo, so let's define the center as that of the main subhalo, and take care of periodic boundary conditions."
   ]
  },
  {
   "cell_type": "code",
   "execution_count": null,
   "metadata": {},
   "outputs": [],
   "source": [
    "boxsize = header['BoxSize']\n",
    "center = cat['SubPos'][cat['FirstSubOfHalo'][thishalo],:]\n",
    "print(center)\n",
    "halopos = pos[haloIDs,:] - center\n",
    "halopos[halopos < boxsize/2.] += boxsize\n",
    "halopos[halopos > boxsize/2.] -= boxsize\n",
    "print(np.mean(halopos,axis=0))"
   ]
  },
  {
   "cell_type": "markdown",
   "metadata": {},
   "source": [
    "Now let's plot the particles in these halos! We'll plot the main halo in black first, so any particles that remain black were unbound by SUBFIND and don't belong to any subhalos (including the main `FirstSubOfHalo`)."
   ]
  },
  {
   "cell_type": "code",
   "execution_count": null,
   "metadata": {},
   "outputs": [],
   "source": [
    "plt.figure(figsize=(8,8))\n",
    "plt.scatter(halopos[:,0],halopos[:,1],marker = '.',color='k')\n",
    "colors = ['g','b','m','r','c']\n",
    "for c, i in zip(colors,subindices):\n",
    "    subIDs = subids[cat['subOffset'][i]:cat['subOffset'][i]+cat['subLen'][i]]\n",
    "    subpos = pos[subIDs,:] - center\n",
    "    subpos[subpos < boxsize/2.] += boxsize\n",
    "    subpos[subpos > boxsize/2.] -= boxsize\n",
    "    plt.scatter(subpos[:,0],subpos[:,1],marker ='.',color=c)\n",
    "plt.xlabel('x (Mpc/h)',size='large')\n",
    "plt.ylabel('y (Mpc/h)',size='large');"
   ]
  },
  {
   "cell_type": "code",
   "execution_count": null,
   "metadata": {},
   "outputs": [],
   "source": []
  }
 ],
 "metadata": {
  "kernelspec": {
   "display_name": "Python 3.7 (py37)",
   "language": "python",
   "name": "py37"
  },
  "language_info": {
   "codemirror_mode": {
    "name": "ipython",
    "version": 3
   },
   "file_extension": ".py",
   "mimetype": "text/x-python",
   "name": "python",
   "nbconvert_exporter": "python",
   "pygments_lexer": "ipython3",
   "version": "3.7.4"
  }
 },
 "nbformat": 4,
 "nbformat_minor": 4
}
