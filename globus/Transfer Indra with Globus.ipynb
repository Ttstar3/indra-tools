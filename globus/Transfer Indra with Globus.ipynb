{
 "cells": [
  {
   "cell_type": "markdown",
   "metadata": {},
   "source": [
    "# Transfer Indra data to (or delete from) FileDB with Globus\n",
    "### (Assuming you have the necessary accounts and permissions)\n",
    "\n",
    "https://globus-sdk-python.readthedocs.io/en/stable/tutorial/#step-1-get-a-client\n",
    "\n",
    "http://globus.org"
   ]
  },
  {
   "cell_type": "code",
   "execution_count": 1,
   "metadata": {},
   "outputs": [],
   "source": [
    "import globus_sdk\n",
    "import indra_globus as ig\n",
    "from IPython.display import HTML"
   ]
  },
  {
   "cell_type": "code",
   "execution_count": 2,
   "metadata": {},
   "outputs": [],
   "source": [
    "CLIENT_ID = '94d2fffa-a76b-4e2d-b910-698cda67e60f' # This is for  me (Bridget); supply your own"
   ]
  },
  {
   "cell_type": "code",
   "execution_count": 3,
   "metadata": {},
   "outputs": [],
   "source": [
    "client = globus_sdk.NativeAppAuthClient(CLIENT_ID)\n",
    "client.oauth2_start_flow()\n",
    "authorize_url = client.oauth2_get_authorize_url()"
   ]
  },
  {
   "cell_type": "code",
   "execution_count": 4,
   "metadata": {},
   "outputs": [
    {
     "data": {
      "text/html": [
       "Go <a href=\"https://auth.globus.org/v2/oauth2/authorize?client_id=94d2fffa-a76b-4e2d-b910-698cda67e60f&redirect_uri=https%3A%2F%2Fauth.globus.org%2Fv2%2Fweb%2Fauth-code&scope=openid+profile+email+urn%3Aglobus%3Aauth%3Ascope%3Atransfer.api.globus.org%3Aall&state=_default&response_type=code&code_challenge=v2ZDVAJZTjwQMehAVxvW5bk1e5W5im1M4lRmYYUwNJA&code_challenge_method=S256&access_type=online\">here</a> to authenticate, and remember to login to globus and the jhuidies#dmztest collection"
      ],
      "text/plain": [
       "<IPython.core.display.HTML object>"
      ]
     },
     "execution_count": 4,
     "metadata": {},
     "output_type": "execute_result"
    }
   ],
   "source": [
    "html_link = 'Go <a href=\"{}\">here</a> to authenticate, and remember to login to globus and the jhuidies#dmztest collection'.format(authorize_url)\n",
    "HTML(html_link)"
   ]
  },
  {
   "cell_type": "code",
   "execution_count": 5,
   "metadata": {},
   "outputs": [],
   "source": [
    "# replace auth_code with value obtained from URL\n",
    "auth_code='OyZzQfBs3w3dEzJGqdcaJNmY7CA9gv'\n",
    "token_response = client.oauth2_exchange_code_for_tokens(auth_code)"
   ]
  },
  {
   "cell_type": "markdown",
   "metadata": {},
   "source": [
    "## Full simulation (skipping existing snaps)"
   ]
  },
  {
   "cell_type": "code",
   "execution_count": null,
   "metadata": {},
   "outputs": [],
   "source": [
    "# For a full simulation, need the run number. If you only have the X_Y_Z, that's ok.\n",
    "run_num = ig.get_run_num(5,0,5)"
   ]
  },
  {
   "cell_type": "code",
   "execution_count": 79,
   "metadata": {},
   "outputs": [],
   "source": [
    "transfer = ig.SimTransfer(token_response,run_num)"
   ]
  },
  {
   "cell_type": "code",
   "execution_count": 12,
   "metadata": {},
   "outputs": [
    {
     "name": "stdout",
     "output_type": "stream",
     "text": [
      "snapdir_000 exists in /sciserver/filedb08-02/cosmo/indra/5_0_5/\n",
      "snapdir_030 exists in /sciserver/filedb08-02/cosmo/indra/5_0_5/\n",
      "snapdir_032 exists in /sciserver/filedb08-02/cosmo/indra/5_0_5/\n",
      "snapdir_034 exists in /sciserver/filedb08-02/cosmo/indra/5_0_5/\n",
      "snapdir_037 exists in /sciserver/filedb08-02/cosmo/indra/5_0_5/\n",
      "snapdir_041 exists in /sciserver/filedb08-02/cosmo/indra/5_0_5/\n",
      "snapdir_048 exists in /sciserver/filedb08-02/cosmo/indra/5_0_5/\n",
      "snapdir_058 exists in /sciserver/filedb08-02/cosmo/indra/5_0_5/\n",
      "snapdir_063 exists in /sciserver/filedb08-02/cosmo/indra/5_0_5/\n"
     ]
    }
   ],
   "source": [
    "transfer.populate_tasks()"
   ]
  },
  {
   "cell_type": "code",
   "execution_count": 13,
   "metadata": {},
   "outputs": [
    {
     "name": "stdout",
     "output_type": "stream",
     "text": [
      "55 snap_dir tasks, 14080 sub_id tasks, and 70 file tasks\n",
      "Number of sub_id tasks should be 14080\n",
      "First snap_dir task pair is ('/datascope/indra5/5_0_5/snapdir_001/', '/sciserver/filedb08-02/cosmo/indra/5_0_5/snapdir_001/')\n",
      "First sub_id task pair is ('/datascope/indra5/5_0_5/postproc_001/sub_ids_001.0', '/sciserver/filedb08-02/cosmo/indra/5_0_5/postproc_001/sub_ids_001.0')\n",
      "First file task pair is ('/datascope/indra5/5_0_5/PIDs.txt', '/sciserver/filedb08-02/cosmo/indra/5_0_5/PIDs.txt')\n"
     ]
    }
   ],
   "source": [
    "transfer.sanity_checks()"
   ]
  },
  {
   "cell_type": "code",
   "execution_count": 14,
   "metadata": {},
   "outputs": [
    {
     "name": "stdout",
     "output_type": "stream",
     "text": [
      "Transfer submitted (but not really, just testing code!) Returning tdata.\n"
     ]
    }
   ],
   "source": [
    "tdata = transfer.submit_transfer() # for testing purposes, don't actually submit transfer, but get the tdata\n",
    "# To transfer for real:\n",
    "#transfer.submit_transfer(for_real=True)"
   ]
  },
  {
   "cell_type": "code",
   "execution_count": 15,
   "metadata": {},
   "outputs": [
    {
     "data": {
      "text/plain": [
       "dict_keys(['DATA_TYPE', 'submission_id', 'source_endpoint', 'destination_endpoint', 'verify_checksum', 'preserve_timestamp', 'encrypt_data', 'recursive_symlinks', 'label', 'sync_level', 'DATA'])"
      ]
     },
     "execution_count": 15,
     "metadata": {},
     "output_type": "execute_result"
    }
   ],
   "source": [
    "tdata.keys()"
   ]
  },
  {
   "cell_type": "code",
   "execution_count": 17,
   "metadata": {},
   "outputs": [
    {
     "data": {
      "text/plain": [
       "'Indra_5_0_5'"
      ]
     },
     "execution_count": 17,
     "metadata": {},
     "output_type": "execute_result"
    }
   ],
   "source": [
    "tdata['label']"
   ]
  },
  {
   "cell_type": "markdown",
   "metadata": {},
   "source": [
    "### Delete full simulation, keeping priority snapshots (determined by snaps in skip_example, defaults to 2_0_1)"
   ]
  },
  {
   "cell_type": "code",
   "execution_count": 81,
   "metadata": {},
   "outputs": [
    {
     "name": "stdout",
     "output_type": "stream",
     "text": [
      "Keeping snapdir_000 in /sciserver/filedb08-02/cosmo/indra/5_0_5/\n",
      "Keeping snapdir_030 in /sciserver/filedb08-02/cosmo/indra/5_0_5/\n",
      "Keeping snapdir_032 in /sciserver/filedb08-02/cosmo/indra/5_0_5/\n",
      "Keeping snapdir_034 in /sciserver/filedb08-02/cosmo/indra/5_0_5/\n",
      "Keeping snapdir_037 in /sciserver/filedb08-02/cosmo/indra/5_0_5/\n",
      "Keeping snapdir_041 in /sciserver/filedb08-02/cosmo/indra/5_0_5/\n",
      "Keeping snapdir_048 in /sciserver/filedb08-02/cosmo/indra/5_0_5/\n",
      "Keeping snapdir_058 in /sciserver/filedb08-02/cosmo/indra/5_0_5/\n",
      "Keeping snapdir_063 in /sciserver/filedb08-02/cosmo/indra/5_0_5/\n",
      "Not deleting; returning snapdata, filedata\n",
      "To delete, call NAME.tc.submit_delete(snapdata) and (filedata) or set for_real=True\n"
     ]
    }
   ],
   "source": [
    "snapdata,filedata = transfer.submit_delete()\n",
    "# OR\n",
    "# transfer.submit_delete(for_real=True)"
   ]
  },
  {
   "cell_type": "code",
   "execution_count": 83,
   "metadata": {},
   "outputs": [
    {
     "data": {
      "text/plain": [
       "{'DATA_TYPE': 'delete_item',\n",
       " 'path': '/sciserver/filedb08-02/cosmo/indra/5_0_5/snapdir_001/'}"
      ]
     },
     "execution_count": 83,
     "metadata": {},
     "output_type": "execute_result"
    }
   ],
   "source": [
    "snapdata['DATA'][0]"
   ]
  },
  {
   "cell_type": "code",
   "execution_count": 84,
   "metadata": {},
   "outputs": [
    {
     "data": {
      "text/plain": [
       "{'DATA_TYPE': 'delete_item',\n",
       " 'path': '/sciserver/filedb08-02/cosmo/indra/5_0_5/postproc_001/sub_ids_001.0'}"
      ]
     },
     "execution_count": 84,
     "metadata": {},
     "output_type": "execute_result"
    }
   ],
   "source": [
    "filedata['DATA'][0]"
   ]
  },
  {
   "cell_type": "code",
   "execution_count": 85,
   "metadata": {},
   "outputs": [
    {
     "data": {
      "text/plain": [
       "dict_keys(['DATA_TYPE', 'submission_id', 'endpoint', 'recursive', 'label', 'DATA'])"
      ]
     },
     "execution_count": 85,
     "metadata": {},
     "output_type": "execute_result"
    }
   ],
   "source": [
    "snapdata.keys()"
   ]
  },
  {
   "cell_type": "code",
   "execution_count": 86,
   "metadata": {},
   "outputs": [
    {
     "name": "stdout",
     "output_type": "stream",
     "text": [
      "True False\n"
     ]
    }
   ],
   "source": [
    "print(snapdata['recursive'],filedata['recursive'])"
   ]
  },
  {
   "cell_type": "code",
   "execution_count": 87,
   "metadata": {},
   "outputs": [
    {
     "data": {
      "text/plain": [
       "{'DATA_TYPE': 'delete_item',\n",
       " 'path': '/sciserver/filedb08-02/cosmo/indra/5_0_5/postproc_062/sub_ids_062.255'}"
      ]
     },
     "execution_count": 87,
     "metadata": {},
     "output_type": "execute_result"
    }
   ],
   "source": [
    "filedata['DATA'][-1]"
   ]
  },
  {
   "cell_type": "code",
   "execution_count": null,
   "metadata": {},
   "outputs": [],
   "source": []
  },
  {
   "cell_type": "markdown",
   "metadata": {},
   "source": [
    "## Set of snapshots"
   ]
  },
  {
   "cell_type": "code",
   "execution_count": null,
   "metadata": {},
   "outputs": [],
   "source": [
    "snapnum = 42"
   ]
  },
  {
   "cell_type": "code",
   "execution_count": 43,
   "metadata": {},
   "outputs": [
    {
     "name": "stdout",
     "output_type": "stream",
     "text": [
      "Setting up transfer of 384 runs, starting with 128, of snapnum 42\n",
      "/datascope/indra2/2_0_0/ /sciserver/filedb02-03/cosmo/indra/2_0_0/\n"
     ]
    }
   ],
   "source": [
    "# 2_0_0 to 7_7_7\n",
    "snaptransfer = ig.SnapTransfer(token_response,snapnum,include_7=True)\n",
    "print(snaptransfer.dlocs[0],snaptransfer.flocs[0])"
   ]
  },
  {
   "cell_type": "code",
   "execution_count": 44,
   "metadata": {},
   "outputs": [
    {
     "name": "stdout",
     "output_type": "stream",
     "text": [
      "Setting up transfer of 128 runs, starting with 0, of snapnum 42\n",
      "/datascope/indra0/0_0_0/ /sciserver/filedb08-01/cosmo/indra/0_0_0/\n"
     ]
    }
   ],
   "source": [
    "# 0_0_0 to 1_7_7\n",
    "snaptransfer= ig.SnapTransfer(token_response,snapnum,runfirst=0,nruns=128)\n",
    "print(snaptransfer.dlocs[0],snaptransfer.flocs[0])"
   ]
  },
  {
   "cell_type": "code",
   "execution_count": 99,
   "metadata": {},
   "outputs": [
    {
     "name": "stdout",
     "output_type": "stream",
     "text": [
      "Setting up transfer of 320 runs, starting with 128, of snapnum 42\n",
      "/datascope/indra2/2_0_0/ /sciserver/filedb02-03/cosmo/indra/2_0_0/\n"
     ]
    }
   ],
   "source": [
    "# 2_0_0 to 6_7_7 (default)\n",
    "snaptransfer = ig.SnapTransfer(token_response,snapnum)\n",
    "print(snaptransfer.dlocs[0],snaptransfer.flocs[0])"
   ]
  },
  {
   "cell_type": "code",
   "execution_count": 55,
   "metadata": {},
   "outputs": [
    {
     "name": "stdout",
     "output_type": "stream",
     "text": [
      "snapdir_042 exists in /sciserver/filedb02-03/cosmo/indra/2_0_0/\n",
      "snapdir_042 exists in /sciserver/filedb12-01/cosmo/indra/3_0_0/\n",
      "snapdir_042 exists in /sciserver/filedb09-02/cosmo/indra/4_0_0/\n",
      "snapdir_042 exists in /sciserver/filedb06-03/cosmo/indra/5_0_0/\n",
      "snapdir_042 exists in /sciserver/filedb04-01/cosmo/indra/6_0_0/\n"
     ]
    }
   ],
   "source": [
    "snaptransfer.populate_tasks()"
   ]
  },
  {
   "cell_type": "code",
   "execution_count": 56,
   "metadata": {},
   "outputs": [
    {
     "name": "stdout",
     "output_type": "stream",
     "text": [
      "315 snap_dir tasks and 80640 sub_id tasks\n",
      "Number of sub_id tasks should be 80640\n",
      "First snap_dir task pair is ('/datascope/indra2/2_0_1/snapdir_042/', '/sciserver/filedb03-01/cosmo/indra/2_0_1/snapdir_042/')\n",
      "First sub_id task pair is ('/datascope/indra2/2_0_1/postproc_042/sub_ids_042.0', '/sciserver/filedb03-01/cosmo/indra/2_0_1/postproc_042/sub_ids_042.0')\n",
      "Last snap_dir task pair is ('/datascope/indra6/6_7_7/snapdir_042/', '/sciserver/filedb01-01/cosmo/indra/6_7_7/snapdir_042/')\n",
      "Last sub_id task pair is ('/datascope/indra6/6_7_7/postproc_042/sub_ids_042.255', '/sciserver/filedb01-01/cosmo/indra/6_7_7/postproc_042/sub_ids_042.255')\n"
     ]
    }
   ],
   "source": [
    "snaptransfer.sanity_checks()"
   ]
  },
  {
   "cell_type": "code",
   "execution_count": null,
   "metadata": {},
   "outputs": [],
   "source": [
    "tdata = snaptransfer.submit_transfer()\n",
    "#snaptransfer.submit_transfer(for_real = True)"
   ]
  },
  {
   "cell_type": "markdown",
   "metadata": {},
   "source": [
    "### Delete set of snapshots, keeping those in full simulations (skip_list defaults to current set)"
   ]
  },
  {
   "cell_type": "code",
   "execution_count": 100,
   "metadata": {},
   "outputs": [
    {
     "name": "stdout",
     "output_type": "stream",
     "text": [
      "Keeping snapdir_042 in /sciserver/filedb02-03/cosmo/indra/2_0_0/\n",
      "Keeping snapdir_042 in /sciserver/filedb12-01/cosmo/indra/3_0_0/\n",
      "Keeping snapdir_042 in /sciserver/filedb09-02/cosmo/indra/4_0_0/\n",
      "Keeping snapdir_042 in /sciserver/filedb06-03/cosmo/indra/5_0_0/\n",
      "Keeping snapdir_042 in /sciserver/filedb04-01/cosmo/indra/6_0_0/\n",
      "Not deleting; returning snapdata, filedata\n",
      "To delete, call NAME.tc.submit_delete(snapdata) and (filedata) or set for_real=True\n"
     ]
    }
   ],
   "source": [
    "snapdata,filedata = snaptransfer.submit_delete()"
   ]
  },
  {
   "cell_type": "code",
   "execution_count": 101,
   "metadata": {},
   "outputs": [
    {
     "data": {
      "text/plain": [
       "{'DATA_TYPE': 'delete_item',\n",
       " 'path': '/sciserver/filedb03-01/cosmo/indra/2_0_1/snapdir_042/'}"
      ]
     },
     "execution_count": 101,
     "metadata": {},
     "output_type": "execute_result"
    }
   ],
   "source": [
    "snapdata['DATA'][0]"
   ]
  },
  {
   "cell_type": "code",
   "execution_count": 102,
   "metadata": {},
   "outputs": [
    {
     "data": {
      "text/plain": [
       "{'DATA_TYPE': 'delete_item',\n",
       " 'path': '/sciserver/filedb03-01/cosmo/indra/2_0_1/postproc_042/sub_ids_042.0'}"
      ]
     },
     "execution_count": 102,
     "metadata": {},
     "output_type": "execute_result"
    }
   ],
   "source": [
    "filedata['DATA'][0]"
   ]
  },
  {
   "cell_type": "code",
   "execution_count": 103,
   "metadata": {},
   "outputs": [
    {
     "name": "stdout",
     "output_type": "stream",
     "text": [
      "True False\n"
     ]
    }
   ],
   "source": [
    "print(snapdata['recursive'],filedata['recursive'])"
   ]
  },
  {
   "cell_type": "code",
   "execution_count": 104,
   "metadata": {},
   "outputs": [
    {
     "data": {
      "text/plain": [
       "{'DATA_TYPE': 'delete_item',\n",
       " 'path': '/sciserver/filedb01-01/cosmo/indra/6_7_7/postproc_042/sub_ids_042.255'}"
      ]
     },
     "execution_count": 104,
     "metadata": {},
     "output_type": "execute_result"
    }
   ],
   "source": [
    "filedata['DATA'][-1]"
   ]
  },
  {
   "cell_type": "code",
   "execution_count": null,
   "metadata": {},
   "outputs": [],
   "source": []
  },
  {
   "cell_type": "markdown",
   "metadata": {},
   "source": [
    "## Series of 64 runs: FFT_DATA directories and sub_tab files\n",
    "IF, for example, you are adding 7 series data, do this step before transferring full sims or sets of snapshots."
   ]
  },
  {
   "cell_type": "code",
   "execution_count": 105,
   "metadata": {},
   "outputs": [],
   "source": [
    "transfer = ig.SeriesTransfer(token_response,series_num = 7)"
   ]
  },
  {
   "cell_type": "code",
   "execution_count": 59,
   "metadata": {},
   "outputs": [
    {
     "data": {
      "text/plain": [
       "'/sciserver/filedb01-02/cosmo/indra/7_0_0/'"
      ]
     },
     "execution_count": 59,
     "metadata": {},
     "output_type": "execute_result"
    }
   ],
   "source": [
    "transfer.flocs[0]"
   ]
  },
  {
   "cell_type": "code",
   "execution_count": 73,
   "metadata": {
    "collapsed": true,
    "jupyter": {
     "outputs_hidden": true
    }
   },
   "outputs": [
    {
     "name": "stdout",
     "output_type": "stream",
     "text": [
      "7_0_0  exists in  /sciserver/filedb01-02/cosmo/indra/\n",
      "7_0_1  exists in  /sciserver/filedb01-03/cosmo/indra/\n",
      "7_0_2  exists in  /sciserver/filedb02-01/cosmo/indra/\n",
      "7_0_3  exists in  /sciserver/filedb02-02/cosmo/indra/\n",
      "7_0_4  exists in  /sciserver/filedb02-03/cosmo/indra/\n",
      "7_0_5  exists in  /sciserver/filedb03-01/cosmo/indra/\n",
      "7_0_6  exists in  /sciserver/filedb03-02/cosmo/indra/\n",
      "7_0_7  exists in  /sciserver/filedb03-03/cosmo/indra/\n",
      "7_1_0  exists in  /sciserver/filedb04-01/cosmo/indra/\n",
      "7_1_1  exists in  /sciserver/filedb04-02/cosmo/indra/\n",
      "7_1_2  exists in  /sciserver/filedb04-03/cosmo/indra/\n",
      "7_1_3  exists in  /sciserver/filedb05-01/cosmo/indra/\n",
      "7_1_4  exists in  /sciserver/filedb05-02/cosmo/indra/\n",
      "7_1_5  exists in  /sciserver/filedb05-03/cosmo/indra/\n",
      "7_1_6  exists in  /sciserver/filedb06-01/cosmo/indra/\n",
      "7_1_7  exists in  /sciserver/filedb06-02/cosmo/indra/\n",
      "7_2_0  exists in  /sciserver/filedb06-03/cosmo/indra/\n",
      "7_2_1  exists in  /sciserver/filedb07-01/cosmo/indra/\n",
      "7_2_2  exists in  /sciserver/filedb07-02/cosmo/indra/\n",
      "7_2_3  exists in  /sciserver/filedb07-03/cosmo/indra/\n",
      "7_2_4  exists in  /sciserver/filedb08-01/cosmo/indra/\n",
      "7_2_5  exists in  /sciserver/filedb08-02/cosmo/indra/\n",
      "7_2_6  exists in  /sciserver/filedb08-03/cosmo/indra/\n",
      "7_2_7  exists in  /sciserver/filedb09-01/cosmo/indra/\n",
      "7_3_0  exists in  /sciserver/filedb09-02/cosmo/indra/\n",
      "7_3_1  exists in  /sciserver/filedb09-03/cosmo/indra/\n",
      "7_3_2  exists in  /sciserver/filedb10-01/cosmo/indra/\n",
      "7_3_3  exists in  /sciserver/filedb10-02/cosmo/indra/\n",
      "7_3_4  exists in  /sciserver/filedb10-03/cosmo/indra/\n",
      "7_3_5  exists in  /sciserver/filedb11-01/cosmo/indra/\n",
      "7_3_6  exists in  /sciserver/filedb11-02/cosmo/indra/\n",
      "7_3_7  exists in  /sciserver/filedb11-03/cosmo/indra/\n",
      "7_4_0  exists in  /sciserver/filedb12-01/cosmo/indra/\n",
      "7_4_1  exists in  /sciserver/filedb12-02/cosmo/indra/\n",
      "7_4_2  exists in  /sciserver/filedb12-03/cosmo/indra/\n",
      "7_4_3  exists in  /sciserver/filedb01-01/cosmo/indra/\n",
      "7_4_4  exists in  /sciserver/filedb01-02/cosmo/indra/\n",
      "7_4_5  exists in  /sciserver/filedb01-03/cosmo/indra/\n",
      "7_4_6  exists in  /sciserver/filedb02-01/cosmo/indra/\n",
      "7_4_7  exists in  /sciserver/filedb02-02/cosmo/indra/\n",
      "7_5_0  exists in  /sciserver/filedb02-03/cosmo/indra/\n",
      "7_5_1  exists in  /sciserver/filedb03-01/cosmo/indra/\n",
      "7_5_2  exists in  /sciserver/filedb03-02/cosmo/indra/\n",
      "7_5_3  exists in  /sciserver/filedb03-03/cosmo/indra/\n",
      "7_5_4  exists in  /sciserver/filedb04-01/cosmo/indra/\n",
      "7_5_5  exists in  /sciserver/filedb04-02/cosmo/indra/\n",
      "7_5_6  exists in  /sciserver/filedb04-03/cosmo/indra/\n",
      "7_5_7  exists in  /sciserver/filedb05-01/cosmo/indra/\n",
      "7_6_0  exists in  /sciserver/filedb05-02/cosmo/indra/\n",
      "7_6_1  exists in  /sciserver/filedb05-03/cosmo/indra/\n",
      "7_6_2  exists in  /sciserver/filedb06-01/cosmo/indra/\n",
      "7_6_3  exists in  /sciserver/filedb06-02/cosmo/indra/\n",
      "7_6_4  exists in  /sciserver/filedb06-03/cosmo/indra/\n",
      "7_6_5  exists in  /sciserver/filedb07-01/cosmo/indra/\n",
      "7_6_6  exists in  /sciserver/filedb07-02/cosmo/indra/\n",
      "7_6_7  exists in  /sciserver/filedb07-03/cosmo/indra/\n",
      "7_7_0  exists in  /sciserver/filedb08-01/cosmo/indra/\n",
      "7_7_1  exists in  /sciserver/filedb08-02/cosmo/indra/\n",
      "7_7_2  exists in  /sciserver/filedb08-03/cosmo/indra/\n",
      "7_7_3  exists in  /sciserver/filedb09-01/cosmo/indra/\n",
      "7_7_4  exists in  /sciserver/filedb09-02/cosmo/indra/\n",
      "7_7_5  exists in  /sciserver/filedb09-03/cosmo/indra/\n",
      "7_7_6  exists in  /sciserver/filedb10-01/cosmo/indra/\n",
      "7_7_7  exists in  /sciserver/filedb10-02/cosmo/indra/\n"
     ]
    }
   ],
   "source": [
    "transfer.make_dirs() # For these, directories need to exist"
   ]
  },
  {
   "cell_type": "code",
   "execution_count": 74,
   "metadata": {},
   "outputs": [
    {
     "name": "stdout",
     "output_type": "stream",
     "text": [
      "Populating sub_tab task pairs (could take a while)\n"
     ]
    }
   ],
   "source": [
    "transfer.populate_tasks()"
   ]
  },
  {
   "cell_type": "code",
   "execution_count": 75,
   "metadata": {},
   "outputs": [
    {
     "name": "stdout",
     "output_type": "stream",
     "text": [
      "64 fft tasks and 1048576 sub_tab tasks\n",
      "Number of sub_tab tasks should be 1048576\n",
      "First fft task pair is ('/datascope/indra7/7_0_0/FFT_DATA/', '/sciserver/filedb01-02/cosmo/indra/7_0_0/FFT_DATA/')\n",
      "First sub_tab task pair is ('/datascope/indra7/7_0_0/postproc_000/sub_tab_000.0', '/sciserver/filedb01-02/cosmo/indra/7_0_0/postproc_000/sub_tab_000.0')\n",
      "Last fft task pair is ('/datascope/indra7/7_7_7/FFT_DATA/', '/sciserver/filedb10-02/cosmo/indra/7_7_7/FFT_DATA/')\n",
      "Last sub_tab task pair is ('/datascope/indra7/7_7_7/postproc_063/sub_tab_063.255', '/sciserver/filedb10-02/cosmo/indra/7_7_7/postproc_063/sub_tab_063.255')\n"
     ]
    }
   ],
   "source": [
    "transfer.sanity_checks()"
   ]
  },
  {
   "cell_type": "code",
   "execution_count": 76,
   "metadata": {},
   "outputs": [
    {
     "name": "stdout",
     "output_type": "stream",
     "text": [
      "Transfer Indra_7 submitted (but not really, just testing code!) Returning tdata.\n"
     ]
    }
   ],
   "source": [
    "tdata = transfer.submit_transfer()"
   ]
  },
  {
   "cell_type": "code",
   "execution_count": 77,
   "metadata": {},
   "outputs": [
    {
     "data": {
      "text/plain": [
       "'Indra_7'"
      ]
     },
     "execution_count": 77,
     "metadata": {},
     "output_type": "execute_result"
    }
   ],
   "source": [
    "tdata['label']"
   ]
  },
  {
   "cell_type": "markdown",
   "metadata": {},
   "source": [
    "### Delete EVERYTHING in a full 64-run series, including top-level folders\n",
    "(But please don't!)"
   ]
  },
  {
   "cell_type": "code",
   "execution_count": 106,
   "metadata": {},
   "outputs": [
    {
     "name": "stdout",
     "output_type": "stream",
     "text": [
      "Not deleting; returning data\n",
      "To delete, call NAME.tc.submit_delete(data) or set for_real=True\n"
     ]
    }
   ],
   "source": [
    "ddata = transfer.submit_delete()"
   ]
  },
  {
   "cell_type": "code",
   "execution_count": 107,
   "metadata": {},
   "outputs": [
    {
     "data": {
      "text/plain": [
       "'Indra_delete_7_series'"
      ]
     },
     "execution_count": 107,
     "metadata": {},
     "output_type": "execute_result"
    }
   ],
   "source": [
    "ddata['label']"
   ]
  },
  {
   "cell_type": "code",
   "execution_count": 108,
   "metadata": {},
   "outputs": [
    {
     "data": {
      "text/plain": [
       "{'DATA_TYPE': 'delete_item',\n",
       " 'path': '/sciserver/filedb01-02/cosmo/indra/7_0_0'}"
      ]
     },
     "execution_count": 108,
     "metadata": {},
     "output_type": "execute_result"
    }
   ],
   "source": [
    "ddata['DATA'][0]"
   ]
  },
  {
   "cell_type": "code",
   "execution_count": 109,
   "metadata": {},
   "outputs": [
    {
     "data": {
      "text/plain": [
       "64"
      ]
     },
     "execution_count": 109,
     "metadata": {},
     "output_type": "execute_result"
    }
   ],
   "source": [
    "len(ddata['DATA'])"
   ]
  },
  {
   "cell_type": "code",
   "execution_count": 110,
   "metadata": {},
   "outputs": [
    {
     "name": "stdout",
     "output_type": "stream",
     "text": [
      "Deleting!\n"
     ]
    }
   ],
   "source": [
    "# I created 7 series folders to test, so now I can test deleting them (they are empty anyway)\n",
    "transfer.submit_delete(for_real=True)"
   ]
  },
  {
   "cell_type": "markdown",
   "metadata": {},
   "source": [
    "#### SUCCESS!"
   ]
  },
  {
   "cell_type": "code",
   "execution_count": null,
   "metadata": {},
   "outputs": [],
   "source": []
  }
 ],
 "metadata": {
  "kernelspec": {
   "display_name": "Python 3.7 (py37)",
   "language": "python",
   "name": "py37"
  },
  "language_info": {
   "codemirror_mode": {
    "name": "ipython",
    "version": 3
   },
   "file_extension": ".py",
   "mimetype": "text/x-python",
   "name": "python",
   "nbconvert_exporter": "python",
   "pygments_lexer": "ipython3",
   "version": "3.7.4"
  }
 },
 "nbformat": 4,
 "nbformat_minor": 4
}
